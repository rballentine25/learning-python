{
 "cells": [
  {
   "cell_type": "markdown",
   "metadata": {},
   "source": [
    "# evaluating classification accuracy\n",
    "## accuracy, precision, and recall\n",
    "__Accuracy__: how many data points were detected correctly. HOWEVER: if the dataset is not well balanced, or mistakes have varying impact, accuracy is not a good measure for performance. \n",
    "\n",
    "if a dataset consists of pictures of cats or dogs, and the objective is to find the dogs (cats are irrelevant), then two kinds of mistakes can be made: \n",
    "1. the ml model misses a dog (false negative)\n",
    "2. the model wrongly identifies a cat as a dog (false positive)\n",
    "where correctly identified dogs are true positives and correctly identified cats are true negatives. \n",
    "\n",
    "then instead of accuracy, these two concepts can be used to evaluate model relevancy:\n",
    "\n",
    "### precision\n",
    "found by dividing true positives by overall positives. also considered as the probability that any randomly selected item is a true positive.\n",
    "<br> precision quantifies the number of positive class predictions that actually belong to the positive class.\n",
    "\n",
    "### recall\n",
    "recall is the measure of relevant elements that were detected. it divided true positives by the number of relevant elements. \n",
    "i.e. # of predicted dogs / total known # of dogs in the dataset\n",
    "<br> for a singular item, recall gives the probability that a randomly selected relevant item from the dataset will be detected.\n",
    "<br> recall quantifies the number of positive class predicitions made out of all positive examples in the dataset.\n",
    "\n",
    "### F1 measure\n",
    "F1 = 2 * ((precision*recall) / (precision + recall))\n",
    "result is between 0.0 and 1.0, where 1.0 is the best.\n",
    "<br> F1 gives a score that balances precision and recall in one.\n",
    "\n",
    "\n",
    "\n"
   ]
  }
 ],
 "metadata": {
  "language_info": {
   "name": "python"
  }
 },
 "nbformat": 4,
 "nbformat_minor": 2
}
