{
 "cells": [
  {
   "cell_type": "markdown",
   "metadata": {},
   "source": [
    "# Convolutional Neural Networks (CNN)\n",
    "*2/10/25*  \n",
    "sources:  \n",
    "`Krichen, M. (2023). Convolutional Neural Networks: A Survey. Computers, 12(8), 151. https://doi.org/10.3390/computers12080151`  \n",
    "`\"What are convolutional neural networks?\" IBM, https://www.ibm.com/think/topics/convolutional-neural-networks`\n",
    "\n",
    "CNN  captures spatial features and patterns by using an architecture of layers that performs convolution operations and extracts features at different layer of abstraction. There are four main types of layers in a CNN:  \n",
    "0. input layer\n",
    "1. convolution layer\n",
    "2. pooling layer\n",
    "3. fully connected layer  \n",
    "\n",
    "image -> image sampling -> dimensionality reduction -> feature extraction -> classifer -> classification  \n",
    "  \n",
    "The network begins with an input layer, which has the same number of nodes, say, as pixels in the input image. The input layer connects to the first convolution layer, which applies a kernel of filters to the image. This kernel is what pulls out features from the image. More convolution layers can be added, or the output can be passed to a pooling layer to combine and downsize the extracted features. The last layers in a CNN are the fully connected layers, which perform standard neural net operations to classify the image based on the output of the inner layers. \n",
    "\n",
    "### 1. convolution layer\n",
    "components: input data, kernel/filter, and feature map  \n",
    "considering a application with color images as input: the input will be a matrix in 3D, where the three dimensions are R, G, and B values.  \n",
    "\n",
    "The convolution layer filters are matrices that are much smaller than the original matrix, typically 3x3. These matrices \"slide\" over the original image, adjusted by a stride each step, and compute a dot product between the filter and the overlaid section of the image. The output of the convolution layer is a set of feature maps (one for each filter) that show different features in the input image.   \n",
    "\n",
    "dot product reduces the two matrices to a single value, which will be a \"pixel\" or element in the resulting feature map. Activation functions are usually applied to the resulting feature map. \n",
    "\n",
    "convolutional operation can be done directly, or by fourier or FFT. The latter two take advantage of the convolution theorem in mathematics, which states that convolution in spatial domain is equal to multiplication in frequency domain.   \n",
    "\n",
    "adjustable parameters for size and resolution of output are size of filter, stride (distance between adjacent filter positions), and amount of zero padding. Choice of activation function is also important.   \n",
    "\n",
    "- padding is when extra rows/columns of zeros are added around the outside of the input image. This can help to preserve the spatial dimensions of the image and to control the spatial dimensions of the feature maps. There are three kinds of padding: valid (no padding), where last convo can be dropped; same, which ensures output layer is same size as input layer; and full which increases output size. \n",
    "- stride is the distance between adjacent filter positions. A larger stride makes a lower resolution feature map, and a smaller stride is a higher resolution. \n",
    "- filter values are learned and updated during the training process. Larger fiters can capture more complex features but have higher computational cost and are prone to overfitting. The number of filters will also affect the depth of the output.\n",
    "\n",
    "\n",
    "### 2. pooling layer\n",
    "The pooling layer does dimensionality reduction on the feature maps from the convolutional layer(s). The pooling layer downsamples each feature map by applying an aggregation function on each map, then combining the results. The aggregation function is applied in a similar way to the convo layers, where a filter is swept across the input.   \n",
    "\n",
    "There are two main types of pooling: max pooling, where the maximum value in the filter's input is sent to output; and average pooling, where the average value is calculated from the filter input and sent to output.\n",
    "\n",
    "### 3. fully connected layer\n",
    "FC layer is a traditional NN layer that connects each neuron in previous layer to each neuron in next layer. These are used at end of CNN to give final output. \n",
    "\n",
    "A softmax activation function is usually applied in the FC layers, where the output of the last layer is mapped to the probability distrobution over the classes.   \n",
    "\n",
    "### other layers\n",
    "- dropout layer randomly drops a percentage of the neurons in the previous layer during training, which serves to prevent overfitting and make the network learn more robust features\n",
    "- batch normalization layer normalizes the output of the previous layer by subtracting mean and dividing by std to improve convergence\n"
   ]
  },
  {
   "cell_type": "markdown",
   "metadata": {},
   "source": [
    "## AlexNet"
   ]
  },
  {
   "cell_type": "markdown",
   "metadata": {},
   "source": [
    "## VGG"
   ]
  },
  {
   "cell_type": "markdown",
   "metadata": {},
   "source": [
    "## ResNet"
   ]
  }
 ],
 "metadata": {
  "language_info": {
   "name": "python"
  }
 },
 "nbformat": 4,
 "nbformat_minor": 2
}
