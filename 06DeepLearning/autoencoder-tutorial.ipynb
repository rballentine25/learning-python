{
 "cells": [
  {
   "cell_type": "markdown",
   "metadata": {},
   "source": [
    "https://www.youtube.com/watch?v=zp8clK9yCro\n",
    "original -> encoder -> decoder -> reconstructed\n",
    "\n",
    "FFNN or CNN, generative\n",
    "minimize MSE loss\n",
    "\n",
    "each operation in encoder should be reversed in decoder\n",
    "nn.Conv2D in encoder -> nn.ConvTranspose2D in decoder\n"
   ]
  },
  {
   "cell_type": "code",
   "execution_count": 1,
   "metadata": {},
   "outputs": [],
   "source": [
    "import torch\n",
    "import torch.nn as nn\n",
    "import torch.optim as optim\n",
    "from torchvision import datasets, transforms\n",
    "import matplotlib.pyplot as plt"
   ]
  },
  {
   "cell_type": "code",
   "execution_count": null,
   "metadata": {},
   "outputs": [
    {
     "name": "stdout",
     "output_type": "stream",
     "text": [
      "tensor(0.) tensor(1.)\n"
     ]
    }
   ],
   "source": [
    "# toTensor converts the input data from whatever format to a tensor\n",
    "transform = transforms.ToTensor()\n",
    "# importing dataset\n",
    "mnist_data = datasets.MNIST(root='./data', train = True, download = True, transform=transform)\n",
    "# creating dataloader object\n",
    "data_loader = torch.utils.data.DataLoader(dataset = mnist_data, batch_size=64, shuffle=True)"
   ]
  },
  {
   "cell_type": "code",
   "execution_count": 4,
   "metadata": {},
   "outputs": [
    {
     "name": "stdout",
     "output_type": "stream",
     "text": [
      "tensor(0.) tensor(1.)\n"
     ]
    }
   ],
   "source": [
    "\n",
    "# create an iterator object\n",
    "dataiter = iter(data_loader)\n",
    "# get image and label of first thing\n",
    "images, labels = next(dataiter)\n",
    "print(torch.min(images), torch.max(images)) # currently values are between 0 and 1"
   ]
  },
  {
   "cell_type": "code",
   "execution_count": null,
   "metadata": {},
   "outputs": [],
   "source": [
    "# create autoencoder class: inheriting from nn.Module\n",
    "class Autoencoder_linear(nn.Module):\n",
    "    def __init__(self):\n",
    "        # initialize super class\n",
    "        super().__init__()\n",
    "\n",
    "        # size is (N, 784) where N is batch size and 784 is the image size (28x28)\n",
    "        # reduce with some linear layers\n",
    "        self.encoder = nn.Sequential(\n",
    "            nn.Linear(28*28, 128), # reduce from (N,784) -> (N,128)\n",
    "            nn.ReLU(),\n",
    "\n",
    "            nn.Linear(128, 64), \n",
    "            nn.ReLU(),\n",
    "\n",
    "            nn.Linear(64, 12), \n",
    "            nn.ReLU(),\n",
    "\n",
    "            nn.Linear(12, 3) # final output size is (N, 3)\n",
    "        )\n",
    "\n",
    "        self.decoder = nn.Sequential(\n",
    "            nn.Linear(3, 12), # increase from (N,3) -> (N,12)\n",
    "            nn.ReLU(),\n",
    "\n",
    "            nn.Linear(12, 64), \n",
    "            nn.ReLU(),\n",
    "\n",
    "            nn.Linear(64, 128), \n",
    "            nn.ReLU(),\n",
    "\n",
    "            nn.Linear(128, 28*28), # final output size is (N, 784)\n",
    "\n",
    "            nn.Sigmoid() # to get values from 0-1\n",
    "        )\n",
    "        \n",
    "\n",
    "    def forward(self, x):\n",
    "        encoded = self.encoder(x)\n",
    "        decoded = self.decoder(encoded)\n",
    "\n",
    "        return decoded\n",
    "    \n",
    "    # note: if final output range was [-1, 1], then the tanh activation function \n",
    "    # would be needed instead of sigmoid\n"
   ]
  },
  {
   "cell_type": "markdown",
   "metadata": {},
   "source": [
    "why is padding required?\n",
    "- with a 5x5 input image and a 3x3 filter, using a stride of 1, the feature map output will be 3x3. As more convo layers are added, the spatial dimensions will keep decreasing. \n",
    "- the pixels at the borders of the input image are in fewer convolutions than the ones in the center; if important features are at the edges, this can impact performance of the model\n",
    "- padding is adding extra rows/columns around the borders of an image  \n",
    "\n",
    "for a NxN input image and FxF kernel filter, the shape of the output map without padding is:  \n",
    "$$(n - f + 1) X (n - f + 1) $$\n",
    "to maintain the same spatial dimensions after convolution, we want to set (n - f + 1) = n, which means padding input to (n - f + 1) by (n - f + 1). This is usually done by adding extra rows/columns of ZEROS on the edges (zero padding)  \n",
    "To calculate output shape after padding:  \n",
    "$$ output shape = (n + 2p - f + 1) X (n + 2p - f + 1)$$  \n",
    "\n",
    "\n",
    "What is a stride?\n",
    "- the stride defines how much the filter shifts across the image. Usual default stride is (1,1) which means the filter shifts by one pixel each time.\n",
    "- increasing stride means increasing the number of pixels that are skipped: stride 1 means no pixels skipped, stride 2 means 1 pixel skipped in each row/column between strides, stride 3 means 2 pixels skipped, etc\n",
    "$$ output shape = (\\frac{n + 2p - f}{s + 1}) x (\\frac{n + 2p - f}{s + 1})$$  \n",
    "\n",
    "https://medium.com/@Tms43/understanding-padding-strides-in-convolutional-neural-networks-cnn-for-effective-image-feature-1b0756a52918#:~:text=In%20summary%2C%20padding%20allows%20you,getting%20good%20performance%20from%20CNNs."
   ]
  },
  {
   "cell_type": "code",
   "execution_count": 26,
   "metadata": {},
   "outputs": [],
   "source": [
    "# create autoencoder class: inheriting from nn.Module\n",
    "class Autoencoder_cnn(nn.Module):\n",
    "    def __init__(self):\n",
    "        # initialize super class\n",
    "        super().__init__()\n",
    "\n",
    "        # size is (N, 1, 28, 28) for CNN\n",
    "        self.encoder = nn.Sequential(\n",
    "            # (input, output, kernel size, stride, padding)\n",
    "            nn.Conv2d(1, 16, 3, stride=2, padding=1), # N, 16, 14, 14\n",
    "            nn.ReLU(),\n",
    "\n",
    "            nn.Conv2d(16, 32, 3, stride=2, padding=1), # N, 32, 7, 7\n",
    "            nn.ReLU(),\n",
    "\n",
    "            nn.Conv2d(32, 64, 7) # N, 64, 1, 1\n",
    "\n",
    "        )\n",
    "\n",
    "        self.decoder = nn.Sequential(\n",
    "            # N, 64, 1, 1\n",
    "            nn.ConvTranspose2d(64, 32, 7), # N, 32, 7, 7\n",
    "            nn.ReLU(),\n",
    "\n",
    "            # output_padding adds zeros to make it n,16,14,14, instead of n,16,13,13)\n",
    "            nn.ConvTranspose2d(32, 16, 3, stride=2, padding=1, output_padding=1), # N, 16, 14, 14\n",
    "            nn.ReLU(),\n",
    "\n",
    "            nn.ConvTranspose2d(16, 1, 3, stride=2, padding=1, output_padding=1), # N,1,28,28\n",
    "\n",
    "            nn.Sigmoid() # to get values from 0-1\n",
    "        )\n",
    "        \n",
    "\n",
    "    def forward(self, x):\n",
    "        encoded = self.encoder(x)\n",
    "        decoded = self.decoder(encoded)\n",
    "\n",
    "        return decoded\n",
    "    \n",
    "    # note: if final output range was [-1, 1], then the tanh activation function \n",
    "    # would be needed instead of sigmoid\n",
    "\n",
    "    # note: nn.MaxPool2d reduces size, to revert use nn.MaxUnpool2d\n",
    "    # or could use stride and padding sizes for same effect\n"
   ]
  },
  {
   "cell_type": "code",
   "execution_count": 27,
   "metadata": {},
   "outputs": [],
   "source": [
    "ae_model = Autoencoder_cnn()\n",
    "criterion = nn.MSELoss() # mean squared error loss\n",
    "# optimizer(what to optimize, learning rate, weight decay)\n",
    "optimizer = torch.optim.Adam(ae_model.parameters(), lr=1e-3, weight_decay=1e-5)"
   ]
  },
  {
   "cell_type": "code",
   "execution_count": 28,
   "metadata": {},
   "outputs": [
    {
     "name": "stdout",
     "output_type": "stream",
     "text": [
      "Epoch:1, Loss:0.0089\n"
     ]
    }
   ],
   "source": [
    "# training loop\n",
    "num_epochs = 1\n",
    "outputs = []\n",
    "\n",
    "# iterate over the number of epochs\n",
    "for epoch in range(num_epochs):\n",
    "    # dataloader provides batches of images and labels; _ ignores labels since \n",
    "    # training unsupervised\n",
    "    for (img, _) in data_loader:\n",
    "        # reshaping: unneeded for CNN\n",
    "        # -1 means python infers batch size from the number of elements\n",
    "        #img = img.reshape(-1, 28*28) # flattening from (N, 1, 28, 28) to (N, 784). -1 \n",
    "        \n",
    "        recon = ae_model(img) # img is passed through ae model (output is reconstructed image)\n",
    "        loss = criterion(recon, img) # determining loss between original and reconstructed\n",
    "\n",
    "        optimizer.zero_grad() # clears previous gradients\n",
    "        loss.backward() # back prop to get new gradients\n",
    "        optimizer.step() # updating model weights based on gradients\n",
    "    \n",
    "    print(f'Epoch:{epoch+1}, Loss:{loss.item():.4f}')\n",
    "    outputs.append((epoch, img, recon))"
   ]
  },
  {
   "cell_type": "code",
   "execution_count": 29,
   "metadata": {},
   "outputs": [
    {
     "data": {
      "image/png": "[encoded data removed]",
      "text/plain": [
       "<Figure size 900x200 with 18 Axes>"
      ]
     },
     "metadata": {},
     "output_type": "display_data"
    }
   ],
   "source": [
    "# plotting reconstructed images vs original\n",
    "for k in range(0, num_epochs, 1):\n",
    "    plt.figure(figsize=(9,2))\n",
    "    plt.gray()\n",
    "    # converting from tensor to numpy array to plot\n",
    "    imgs = outputs[k][1].detach().numpy()\n",
    "    recon = outputs[k][2].detach().numpy()\n",
    "    for i, item in enumerate(imgs):\n",
    "        if i >= 9: break\n",
    "        plt.subplot(2, 9, i+1)\n",
    "        #reversing reshape back to 28, 28 image\n",
    "        #item = item.reshape(-1, 28, 28)\n",
    "        # items: 1, 28, 28\n",
    "        plt.imshow(item[0])\n",
    "\n",
    "    for i, item in enumerate(recon):\n",
    "        if i >= 9: break\n",
    "        plt.subplot(2, 9, 9+i+1) # rowlength +i +1\n",
    "        #reversing reshape back to 28, 28 image\n",
    "        #item = item.reshape(-1, 28, 28)\n",
    "        # items: 1, 28, 28\n",
    "        plt.imshow(item[0])"
   ]
  },
  {
   "cell_type": "markdown",
   "metadata": {},
   "source": []
  }
 ],
 "metadata": {
  "kernelspec": {
   "display_name": "cae-env",
   "language": "python",
   "name": "python3"
  },
  "language_info": {
   "codemirror_mode": {
    "name": "ipython",
    "version": 3
   },
   "file_extension": ".py",
   "mimetype": "text/x-python",
   "name": "python",
   "nbconvert_exporter": "python",
   "pygments_lexer": "ipython3",
   "version": "3.12.0"
  }
 },
 "nbformat": 4,
 "nbformat_minor": 2
}
