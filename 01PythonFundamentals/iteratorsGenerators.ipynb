{
 "cells": [
  {
   "cell_type": "markdown",
   "metadata": {},
   "source": [
    "# iterators\n",
    "* an iterator is an object that allows elements of a collection (lists/tuples/strings/dictionaries) to be traversed \n",
    "\n",
    "* an __iterable__ is an object that is capable of returning members one at a time and impliments the iter method. an iterable can be converted into an iterator using iter(iterableName). iterables usually hold the data to iterate over\n",
    "\n",
    "* an __iterator__ is an object that uses the next and iter methods. calling iter() will just return the iterator object itself. iterators actually perform the iteration process. iterators return data from a container one item at a time, and keeps track of the current and past items\n",
    "\n",
    "* every iterator is also an iterable, but not every iterable is an iterator. an __iterable__ does not keep track of the iteration state, but an __iterator__ keeps track of the current position during iteration\n",
    "\n",
    "while loops support indefinite iteration, which is looping through a block of code an unspecified number of times. for loops support definite iteration. "
   ]
  },
  {
   "cell_type": "code",
   "execution_count": 14,
   "metadata": {},
   "outputs": [
    {
     "name": "stdout",
     "output_type": "stream",
     "text": [
      "1 and 2 and 3 and 4 and 5\n"
     ]
    }
   ],
   "source": [
    "# a list is an iterable\n",
    "list = [1, 2, 3, 4, 5]\n",
    "\n",
    "# this is an iterator from list\n",
    "newIter = iter(list)\n",
    "\n",
    "first = next(newIter)\n",
    "second = next(newIter)\n",
    "third = next(newIter)\n",
    "fourth = next(newIter)\n",
    "fifth = next(newIter)\n",
    "\n",
    "print(first, \"and\", second, \"and\", third, \"and\", fourth, \"and\", fifth)"
   ]
  },
  {
   "cell_type": "code",
   "execution_count": 25,
   "metadata": {},
   "outputs": [
    {
     "ename": "StopIteration",
     "evalue": "",
     "output_type": "error",
     "traceback": [
      "\u001b[1;31m---------------------------------------------------------------------------\u001b[0m",
      "\u001b[1;31mStopIteration\u001b[0m                             Traceback (most recent call last)",
      "Cell \u001b[1;32mIn[25], line 2\u001b[0m\n\u001b[0;32m      1\u001b[0m \u001b[38;5;66;03m# if an iterator is called past its limit, it will raise/throw a \u001b[39;00m\n\u001b[1;32m----> 2\u001b[0m listEnd \u001b[38;5;241m=\u001b[39m \u001b[38;5;28mnext\u001b[39m(newIter)\n",
      "\u001b[1;31mStopIteration\u001b[0m: "
     ]
    }
   ],
   "source": [
    "# if an iterator is called past its limit, it will raise/throw a StopIteration exception\n",
    "listEnd = next(newIter)"
   ]
  },
  {
   "cell_type": "markdown",
   "metadata": {},
   "source": [
    "## iterator protocol\n",
    "* iter() and next() are the two methods that make up iterator protocol\n",
    "\n",
    "* iter() is called to initialize the itorator and must return an iterator object\n",
    "* next() is called to iterate over the iterator and returns the next value in the data stream/container\n",
    "\n",
    "* calling iter() on a iterator usually just returns self, since since the purpose of iter is to initialize iterator"
   ]
  },
  {
   "cell_type": "markdown",
   "metadata": {},
   "source": [
    "## custom iterators\n",
    "* custom iterators can be made by overloading iter and next in a new iterator class\n",
    "* each instance of an iterator must have a next() method, which must 1) return the next item in the data stream and 2) raise a StopIteration exception when there are no more items to iterate through\n",
    "* can overload iter on a custom iterator to initialize/reset the current element \n",
    "* init, iter, and next are all instance methods (use self as a parameter)"
   ]
  },
  {
   "cell_type": "code",
   "execution_count": 15,
   "metadata": {},
   "outputs": [
    {
     "name": "stdout",
     "output_type": "stream",
     "text": [
      "[1, 2, 3, 4, 5]\n"
     ]
    }
   ],
   "source": [
    "class customIter:\n",
    "    def __init__(self, end):\n",
    "        self.end = end\n",
    "\n",
    "    def __iter__(self):\n",
    "        self.curr = 0\n",
    "        return self\n",
    "    \n",
    "    def __next__(self):\n",
    "        if self.curr < self.end:\n",
    "            value = self.curr + 1\n",
    "            self.curr += 1\n",
    "            return value\n",
    "        else:\n",
    "            raise StopIteration\n",
    "\n",
    "rangeList = customIter(5)\n",
    "printList = [num for num in rangeList]\n",
    "print(printList)"
   ]
  },
  {
   "cell_type": "markdown",
   "metadata": {},
   "source": [
    "# generators \n",
    "* a generator reterns an iterator that produces a sequence of values without storing the entire sequence in memory\n",
    "* a generator can be created with either a function or expression\n",
    "* the __generator function__ uses 'yield' instead of return. yield can be repeated inside the generator function \n",
    "* when the generator function is called, the entire function body will NOT be called. only code up to the first yield statement will be executed, then it will be paused until the next call. it retains whatever the counter variable was so it knows how many times it has been called until the given limit value is reached\n",
    "\n",
    "\n",
    "\n",
    "* the __generator expression__ is a more concise way to create a generator and resembles list comprehension\n",
    "* the only difference between a list comprehension and a generator expression is the generator uses parentheses and lists comp uses brackets    \n",
    "\n",
    "key features of generators: 1) items are produced one at a time and only when requested, which saves memory 2) state is maintained between calls\n",
    "\n",
    "generators are also set up as iterators, so next() is used to call individual values from a generator"
   ]
  },
  {
   "cell_type": "code",
   "execution_count": 24,
   "metadata": {},
   "outputs": [
    {
     "name": "stdout",
     "output_type": "stream",
     "text": [
      "generator will retain current state so can be called one at a time:\n",
      "1\n",
      "2\n",
      "or iterate over the entire thing:\n",
      "1\n",
      "2\n",
      "3\n",
      "4\n",
      "5\n",
      "\n",
      "printing individual values with gen expression:\n",
      "1\n",
      "2\n",
      "3\n",
      "or all at once:\n",
      "1\n",
      "2\n",
      "3\n"
     ]
    }
   ],
   "source": [
    "# GENERATOR FUNCTION\n",
    "def newGenerator(limit):\n",
    "    counter = 1\n",
    "\n",
    "    while counter <= limit:\n",
    "        yield counter\n",
    "        counter += 1\n",
    "\n",
    "print(\"generator will retain current state so can be called one at a time:\")\n",
    "gen = newGenerator(3)\n",
    "print(next(gen))\n",
    "print(next(gen))\n",
    "\n",
    "print(\"or iterate over the entire thing:\")\n",
    "for num in newGenerator(5):\n",
    "    print(num)\n",
    "\n",
    "# GENERATOR FUNCTION \n",
    "# syntax: (expression for item in iterable)\n",
    "newGen = (num+1 for num in range(3))\n",
    "print(\"\\nprinting individual values with gen expression:\")\n",
    "print(next(newGen))\n",
    "print(next(newGen))\n",
    "print(next(newGen))\n",
    "\n",
    "newGen2 = (num+1 for num in range(3))\n",
    "print(\"or all at once:\")\n",
    "for num in newGen2:\n",
    "    print(num)"
   ]
  }
 ],
 "metadata": {
  "kernelspec": {
   "display_name": "base",
   "language": "python",
   "name": "python3"
  },
  "language_info": {
   "codemirror_mode": {
    "name": "ipython",
    "version": 3
   },
   "file_extension": ".py",
   "mimetype": "text/x-python",
   "name": "python",
   "nbconvert_exporter": "python",
   "pygments_lexer": "ipython3",
   "version": "3.11.7"
  }
 },
 "nbformat": 4,
 "nbformat_minor": 2
}
