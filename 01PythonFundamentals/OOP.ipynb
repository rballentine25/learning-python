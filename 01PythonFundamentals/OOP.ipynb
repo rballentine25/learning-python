{
 "cells": [
  {
   "cell_type": "markdown",
   "metadata": {},
   "source": [
    "## classes\n",
    "* __init__ is the constructor method to initialize any varables needed by the class. once the init method is defined, new instances can set values for these variables\n",
    "* the first paramenter in init should always be self, which indicates the instance calling the method. when the class is called, the instance created is passed to self\n",
    "\n",
    "* any variables created inside init will be instance variables specific to each instance. variables within the class but outside init will be common to all instances. class attributes must be defined right below the class header (before init)\n",
    "\n",
    "* when calling a class, if init is defined with method parameters, they must be defined when instantiating (ex. if newDog = Dog() won't work). However, default values can be set using keyword arguments\n",
    "\n",
    "* instance methods are methods that take self as a parameter. __str__ is an instance method (similar to toString)\n",
    "\n",
    "* init and str are dunder methods (double underscores) used for class customization"
   ]
  },
  {
   "cell_type": "code",
   "execution_count": 11,
   "metadata": {},
   "outputs": [
    {
     "name": "stdout",
     "output_type": "stream",
     "text": [
      "Lucky is a 0 year old Dog\n",
      "Bella is a 3 year old Yellow Lab\n",
      "Spock is a 0 year old Golden Retriever\n",
      "Charles is a 5 year old Black Lab (Gender: male)\n"
     ]
    }
   ],
   "source": [
    "# defining a new class:\n",
    "class Dog:\n",
    "    # class attributes (for all instances) go here:\n",
    "    isCute = True\n",
    "\n",
    "    def __init__(self, name=\"Lucky\", age=0, breed=\"Dog\"):\n",
    "        self.name = name\n",
    "        self.age = age\n",
    "        self.breed = breed\n",
    "    \n",
    "    def __str__(self):\n",
    "        return f\"{self.name} is a {self.age} year old {self.breed}\"\n",
    "\n",
    "# creating an instance of that class using default values\n",
    "dog1 = Dog()\n",
    "print(dog1)\n",
    "\n",
    "# creating an instance with new values\n",
    "dog2 = Dog(\"Bella\", 3, \"Yellow Lab\")\n",
    "print(dog2)\n",
    "\n",
    "# creating an instance with only some new values\n",
    "dog3 = Dog(name=\"Spock\", breed=\"Golden Retriever\")\n",
    "print(dog3)\n",
    "\n",
    "# Inheritance example\n",
    "class BlackLab(Dog):\n",
    "    def __init__(self, name, age, gender):\n",
    "        super().__init__(name, age, breed=\"Black Lab\")\n",
    "        self.gender = gender\n",
    "\n",
    "    def __str__(self):\n",
    "        superStr = super().__str__()\n",
    "        return f\"{superStr} (Gender: {self.gender})\"\n",
    "\n",
    "dog4 = BlackLab(\"Charles\", 5, \"male\")\n",
    "print(dog4)"
   ]
  },
  {
   "cell_type": "markdown",
   "metadata": {},
   "source": [
    "## overloading methods (more dunder methods)\n",
    "* __add__, __sub__, and __gt__ are the most commonly used\n",
    "* add allows overloading of the + operation, sub is subtraction, and gt is greater than. \n",
    "* this is useful for classes where objects may not be numbers and need other methods for adding/subtracting etc that can be done by using regular operators after the methods are overloaded"
   ]
  }
 ],
 "metadata": {
  "kernelspec": {
   "display_name": "base",
   "language": "python",
   "name": "python3"
  },
  "language_info": {
   "codemirror_mode": {
    "name": "ipython",
    "version": 3
   },
   "file_extension": ".py",
   "mimetype": "text/x-python",
   "name": "python",
   "nbconvert_exporter": "python",
   "pygments_lexer": "ipython3",
   "version": "3.11.7"
  }
 },
 "nbformat": 4,
 "nbformat_minor": 2
}
