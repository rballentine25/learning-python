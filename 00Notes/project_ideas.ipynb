{
 "cells": [
  {
   "cell_type": "markdown",
   "metadata": {},
   "source": [
    "# Areas of interest\n",
    "- environmental: air quality, wildfires, algal blooms\n",
    "- disease prediction: alzheimers/dementia\n",
    "- aviation: flight delays, windspeed, part failure/maintenance intervals"
   ]
  },
  {
   "cell_type": "markdown",
   "metadata": {},
   "source": [
    "## topic ideas\n",
    "\n",
    "### helpful links\n",
    "* ROSES solicited research programs: https://nspires.nasaprs.com/external/viewrepositorydocument/cmdocumentid=974327/solicitationId=%7b600EE5E5-E9D5-FF55-0CAD-764F6D4BEEA9%7d/viewSolicitationDocument=1/Table%202%20ROSES-2024%20Amend45.html\n",
    "* NASA Planetary Data System (PDS): https://pds.nasa.gov\n",
    "* NASA [mission directorates](https://www.nasa.gov/directorates/): Aeronautics, Exploration Systems, Mission Support, Science, Space Operations, Space Technology\n",
    "* data.gov/dataset/\n",
    "\n"
   ]
  },
  {
   "cell_type": "markdown",
   "metadata": {},
   "source": [
    "From ROSES:\n",
    "* C.9 [Mars Data Analysis](https://nspires.nasaprs.com/external/solicitations/summary.do?solId={A750D1B9-3AE5-9BB3-0BCD-89E581648F5B}&path=&method=init)\n",
    "* A.24 [Weather and Atmospheric Dynamics](https://nspires.nasaprs.com/external/solicitations/summary.do?solId={AD51F05C-F6B8-FB4A-B775-071B9A2BDC7E}&path=&method=init)\n",
    "* A.17 [Atmospheric Composition: Upper Atmospheric Composition Observations](https://nspires.nasaprs.com/external/solicitations/summary.do?solId={A2AE930A-FE30-9916-6868-35CF1BE97C46}&path=&method=init)\n",
    "* C.8 [Lunar Data Analysis Program](https://nspires.nasaprs.com/external/viewrepositorydocument/cmdocumentid=983466/solicitationId=%7BCD554FF5-5F05-3833-5120-985C271695D7%7D/viewSolicitationDocument=1/C.08%20LDAP_POCupdate052424.pdf)\n",
    "* A.19 [Atmospheric Composition: Modeling and Analysis Program](https://nspires.nasaprs.com/external/viewrepositorydocument/cmdocumentid=983559/solicitationId=%7BE31F54DC-CB26-735E-2278-C02900A1C793%7D/viewSolicitationDocument=1/A.19%20ACMAP.pdf)\n",
    "* C.10 [Cassini Data Analysis Program](https://nspires.nasaprs.com/external/viewrepositorydocument/cmdocumentid=983468/solicitationId=%7B5A0ADF62-FEEA-11D4-1672-D0B2019C0EB5%7D/viewSolicitationDocument=1/C.10%20CDAP.pdf)\n",
    "* A.47 [Earth Action: Wildland Fires](https://nspires.nasaprs.com/external/viewrepositorydocument/cmdocumentid=983593/solicitationId=%7BDD4F42B0-D00E-2895-325A-48ECDA13DA58%7D/viewSolicitationDocument=1/A.47%20Wildland%20Fires_Amend1.pdf)\n",
    "* D.2 [Astrophysics Data Analysis](https://nspires.nasaprs.com/external/viewrepositorydocument/cmdocumentid=983494/solicitationId=%7B3C497801-DB33-9F39-7636-1208E074A711%7D/viewSolicitationDocument=1/D.02%20ADAP.pdf)\n",
    "* A.53 [In-space validation of Earth Science Technologies](https://nspires.nasaprs.com/external/viewrepositorydocument/cmdocumentid=983466/solicitationId=%7BCD554FF5-5F05-3833-5120-985C271695D7%7D/viewSolicitationDocument=1/C.08%20LDAP_POCupdate052424.pdf)\n",
    "* A.10 [Sea level Change Science team](https://nspires.nasaprs.com/external/viewrepositorydocument/cmdocumentid=983466/solicitationId=%7BCD554FF5-5F05-3833-5120-985C271695D7%7D/viewSolicitationDocument=1/C.08%20LDAP_POCupdate052424.pdf)\n",
    "* C.3 [Solar system workings](https://nspires.nasaprs.com/external/viewrepositorydocument/cmdocumentid=983466/solicitationId=%7BCD554FF5-5F05-3833-5120-985C271695D7%7D/viewSolicitationDocument=1/C.08%20LDAP_POCupdate052424.pdf)"
   ]
  },
  {
   "cell_type": "markdown",
   "metadata": {},
   "source": [
    "### other ideas\n",
    "* something with weather prediction?\n",
    "* look at characteristics of successful astronauts and develop model of what to look for in new astronauts?\n",
    "* star type/asteroid classification\n",
    "* solar radiation prediction\n",
    "* disease prediction could also be interesting\n",
    "\n",
    "from Ohio Data\n",
    "* [Monthly Harmful Algal Bloom (HAB) Levels by Beach]([https://data.ohio.gov/wps/portal/gov/data/view/monthly-hab-levels-by-beach?visualize=true)\n",
    "* [Harmful Algal Bloom (HAB) Annual Monitoring & Advisory Data](https://data.ohio.gov/wps/portal/gov/data/view/harmful-algal-bloom-annual-monitoring-and-advisory-data?visualize=true)"
   ]
  },
  {
   "cell_type": "markdown",
   "metadata": {},
   "source": [
    "## journal ideas\n",
    "### weather/climate\n",
    "* predicting windspeed from airplane flight data - https://ieeexplore-ieee-org.ezproxy.libraries.wright.edu/document/9323718\n",
    "* rainfall prediction in Lake Victoria Basin - https://ieeexplore-ieee-org.ezproxy.libraries.wright.edu/document/10518036\n",
    "* article that presents a cleaned dataset for rainfall prediction in Uganda - https://eds-p-ebscohost-com.ezproxy.libraries.wright.edu/eds/detail/detail?vid=0&sid=47f84290-4c92-494c-b6cb-b6e920b59c5c%40redis&bdata=JnNpdGU9ZWRzLWxpdmU%3d#AN=edsdoj.12f8222a13ce4ab98cd753428de76520&db=edsdoj\n",
    "* Wildfire influence on US pollution trends (Stanford Data Science) - https://events.stanford.edu/event/wildland_fire_seminar_series_-_marshall_burke_wildfire_influence_on_recent_us_pollution_trends\n",
    "\n",
    "## current issues\n",
    "- drug problems/drug addiction: likelihood to relapse based on social/economic factors?\n",
    "- \"climate change\": rising temps/ rainfall?\n",
    "- are electric vehicles actually effective?\n",
    "- alzheimers prediction?\n",
    "- __air quality__\n",
    "- __wildfires in west - spatial prediction or warning level (seeing lots about wildfire prediction__\n",
    "- effect of crop pesticides on health?\n",
    "- __algae blooms in great lakes__\n",
    "- tornado prediction? more hitting ohio recently\n",
    "- __literally any kind of disease prediction__\n",
    "- earthquake prediction\n",
    "- mosquitos.\n",
    "- drought prediction\n",
    "- could always go back to electric vehicles or solar power\n",
    "- __predicting flight delays__\n",
    "- crop prediction\n",
    "- travel time prediction\n",
    "- part failure/maintenance in aircraft?\n",
    "- solar flare/radiation prediction: timing, duration, intensity and localization\n",
    "- predictive maintenance in manufacturing\n",
    "\n",
    "best ideas so far:\n",
    "- air quality: prediction or effect, maybe find something its tied to and see how it impacts health?\n",
    "- wildfires: prediction of danger/warning system based on current weather conditions, previous weather conditions (drought, etc), idk what else\n",
    "- algae blooms in great lakes\n",
    "- disease predictions: alzheimers/dementia, \n",
    "- flight delays"
   ]
  }
 ],
 "metadata": {
  "language_info": {
   "name": "python"
  }
 },
 "nbformat": 4,
 "nbformat_minor": 2
}
