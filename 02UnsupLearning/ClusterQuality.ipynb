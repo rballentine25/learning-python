{
 "cells": [
  {
   "cell_type": "markdown",
   "metadata": {},
   "source": [
    "# Cluster Quality\n",
    "two major ways to measure cluster quality\n",
    "1. extrinsic measures depend \"ground/group truth labels.\" clustering is evaluated by comparing to these ground truths and seeing how they match up. considered to be supervised methods\n",
    "2. intrinsic measures"
   ]
  },
  {
   "cell_type": "code",
   "execution_count": null,
   "metadata": {},
   "outputs": [],
   "source": []
  }
 ],
 "metadata": {
  "language_info": {
   "name": "python"
  }
 },
 "nbformat": 4,
 "nbformat_minor": 2
}
