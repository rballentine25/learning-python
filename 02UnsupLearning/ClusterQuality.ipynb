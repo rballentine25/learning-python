{
 "cells": [
  {
   "cell_type": "markdown",
   "metadata": {},
   "source": [
    "other topics to look at:\n",
    "* assessing cluster tendancies - hopkins statistic\n",
    "* determining the number of clusters - elbow method, cross-validation, WSS, BSS\n",
    "\n",
    "references: *Data Mining: Concepts and Techniques* (3e) by J. Han, M. Kamber, J. Pei"
   ]
  },
  {
   "cell_type": "markdown",
   "metadata": {},
   "source": [
    "# Cluster Quality\n",
    "two major ways to measure cluster quality\n",
    "1. *extrinsic* measures depend \"ground/group truth labels.\" clustering is evaluated by comparing to these ground truths and seeing how they match up. considered to be supervised methods\n",
    "2. *intrinsic* measures - looks solely at the data (unsupervised) to evaluate how well clusters are separated and how compact they are \n",
    "\n",
    "some intrinsic methods include:\n",
    "1.  __silhouette coefficient s(o)__\n",
    "<br> for each object o in a data set:\n",
    "<br> a(o) is the average distance between o and all other objects in the cluster that o belongs (compactness of o's cluster)\n",
    "<br> b(o) is the minimum average distance from o to all clusters to which o does not belong (how separated o is from other clusters). \n",
    "then: \n",
    "$$ s(o) = \\frac{b(o) - a(o)}{max[a(o), b(o)]} , -1 \\leq  s(o) \\leq 1$$\n",
    "* s(o) = 1 indicates the cluster with o is compact and far away from other clusters (ideal)\n",
    "<br> s(o) = -1 means o is closer to objects in another cluster than objects in its own cluster (bad)\n",
    "* the mean average silhouette coefficient of all objects in the data set can be found to rate the quality of the clustering\n",
    "\n",
    "\n",
    "2.  __Calinski-Haeabasz Index__ or Variance-ratio criterion: measure of how similar an object is to its own cluster vs other clusters. higher CH values mean the clusters are dense and well separated\n",
    "<br> $$ CH = \\frac {\\frac{\\sum_{i=1}^{k} n * {|ck - c|}^2}{k - 1}} {\\frac{\\sum_{i=1}^{k}\\sum_{j=1}^{nk}{|di - ck|}^2}{N - k}}$$\n",
    "* k is # of clusters, di is a point in the data set, nk is the number of points of the kth cluster, ck is the centroid of the kth cluster, c is the global centroid, N is total number of data points\n",
    "* numerator is separation index, denomerator is cohesion index, where separation is from distance of the cluster centroids to the global centroid and cohesion is from distance of points to their cluster centroid\n",
    "3.  __Davies-Bouldin Index (DBI)__: average similarity measure of each cluster with its most similar cluster, where similarity is the ratio of within-cluster distances to between-cluster distances. min score is zero, where lower values = better clustering. idea is that the good clusters have low within-cluster variation and high between-cluster separation\n",
    "* intra-cluster distance: mean distance between each element in a cluster to the centroid of that cluster\n",
    "* inter-cluster distance: average distance between different cluster centroids"
   ]
  }
 ],
 "metadata": {
  "language_info": {
   "name": "python"
  }
 },
 "nbformat": 4,
 "nbformat_minor": 2
}
