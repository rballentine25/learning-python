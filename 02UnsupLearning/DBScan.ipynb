{
 "cells": [
  {
   "cell_type": "markdown",
   "metadata": {},
   "source": [
    "# Density based spatial clustering of applications with noise: DBSCAN\n",
    "* given a set of points in space, it groups together points that are closely packed (high density) and marks outliers as points alone in low density areas\n",
    "* for each point in a cluster, there must be a minimum number of points in a certain radiua from that point\n",
    "* advantage of DBscan is that it works for non-spherical clusters, unlike some other clustering methods\n",
    "* a point belongs to a cluster if it is close to many points from that cluster\n",
    "\n",
    "### parameters for DBscan\n",
    "* __eps__ defines the radius/neighborhood around the data point. if the distance between 2 points is lower then eps, they are neighbors & in the same cluster. \n",
    "<br> if eps is *too small*, too much of the data will be outliers. if eps is *too large* then the clusters will merge. eps can be found using a k-distance graph\n",
    "\n",
    "* __MinPts__ is the mninimum number of data points within the eps radius. MinPts can be derived from the number of dimensions D in the dataset; MinPts >= D+1, where MinPts >= 3\n",
    "\n",
    "### three kinds of points:\n",
    "1. __core point__ if it has more than MinPts points within the eps\n",
    "2. __border point__ if it has fewer than MinPts points but is in the neighborhood of a core point\n",
    "3. __noise/outlier__ if it is not a core or border point\n",
    "\n",
    "### steps:\n",
    "for each point, the number of points within the eps is counted\n",
    "points that have > MinPts are defined as core points <br>\n",
    "then a core point is randomly chosen as the first cluster. all points within that point's eps are added to the cluster. <br>\n",
    "this extends to each core point added to the vluster: after a core poinnt is added, all other core points in ITS eps are also added, until all the core points in all the eps regions of the outer core points aaare added. <br>\n",
    "after that, all border points in the cluster's core point eps regions are added, but oints in the border eps regions are not added. <br>\n",
    "border points can only join a cluster, they cannot exted it further<br>\n",
    "once a cluster is done, a point will be picked that is not within that cluster and the proces will start again\n",
    "\n",
    "### difference from k-means and other clustering methods:\n",
    "* density based methods work better for clusters that are non-spherical and are not equally sized, since it is not reliant on centroids\n",
    "* not all points are assigned to clusters, which means outliers and noise can be appropriately dealt with in DBscan (aren't assigned to clusters). in centroid based methods, outliers can skew the centroid positioning and possibly the clusters themselves\n",
    "* DBscan doesn't need to know the number of clusters to begin, but does need *eps* and *MinPts*\n",
    "* DBscan is more computationally expensive, especially in high dimension"
   ]
  }
 ],
 "metadata": {
  "language_info": {
   "name": "python"
  }
 },
 "nbformat": 4,
 "nbformat_minor": 2
}
