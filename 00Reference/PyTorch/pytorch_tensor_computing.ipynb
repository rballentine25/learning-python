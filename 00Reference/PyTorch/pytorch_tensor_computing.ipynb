{
 "cells": [
  {
   "cell_type": "markdown",
   "metadata": {},
   "source": [
    "# PyTorch: Tensor Ops"
   ]
  },
  {
   "cell_type": "markdown",
   "metadata": {},
   "source": [
    "This notebook covers the very basics of using PyTorch. "
   ]
  },
  {
   "cell_type": "code",
   "execution_count": null,
   "metadata": {},
   "outputs": [
    {
     "name": "stdout",
     "output_type": "stream",
     "text": [
      "%pylab is deprecated, use %matplotlib inline and import the required libraries.\n",
      "Populating the interactive namespace from numpy and matplotlib\n",
      "__Python VERSION: 3.10.10 (tags/v3.10.10:aad5f6a, Feb  7 2023, 17:20:36) [MSC v.1929 64 bit (AMD64)]\n",
      "__pyTorch VERSION: 2.5.1+cu124\n",
      "__CUDA VERSION\n",
      "__CUDNN VERSION: 90100\n",
      "__Number CUDA Devices: 1\n",
      "__Devices\n",
      "Active CUDA Device: GPU 0\n",
      "Available devices  1\n",
      "Current cuda device  0\n"
     ]
    },
    {
     "name": "stderr",
     "output_type": "stream",
     "text": [
      "'nvcc' is not recognized as an internal or external command,\n",
      "operable program or batch file.\n"
     ]
    }
   ],
   "source": [
    "from __future__ import print_function\n",
    "import torch\n",
    "import numpy as np\n",
    "%pylab inline\n",
    "\n",
    "import sys\n",
    "print('__Python VERSION:', sys.version)\n",
    "print('__pyTorch VERSION:', torch.__version__)\n",
    "print('__CUDA VERSION:')\n",
    "from subprocess import call\n",
    "# call([\"nvcc\", \"--version\"]) does not work\n",
    "! nvcc --version\n",
    "print('__CUDNN VERSION:', torch.backends.cudnn.version())\n",
    "print('__Number CUDA Devices:', torch.cuda.device_count())\n",
    "print('__Devices')\n",
    "call([\"nvidia-smi\", \"--format=csv\", \"--query-gpu=index,name,driver_version,memory.total,memory.used,memory.free\"])\n",
    "print('Active CUDA Device: GPU', torch.cuda.current_device())\n",
    "\n",
    "print ('Available devices ', torch.cuda.device_count())\n",
    "print ('Current cuda device ', torch.cuda.current_device())\n"
   ]
  },
  {
   "cell_type": "markdown",
   "metadata": {},
   "source": [
    "The pylab command above inputs lots of numpy stuff -- I am unsure if you have pylab installed on your WSU provided machines. Anyway, it is equivalent to importing all functions and objects from numpy and matplotlib.\n",
    "\n",
    "Torch implements its own set of datatypes, the most important of which is a Tensor. "
   ]
  },
  {
   "cell_type": "markdown",
   "metadata": {},
   "source": [
    "### Tensors"
   ]
  },
  {
   "cell_type": "code",
   "execution_count": 4,
   "metadata": {},
   "outputs": [
    {
     "name": "stdout",
     "output_type": "stream",
     "text": [
      "tensor([[3.8706e+25, 2.0081e-42, 0.0000e+00],\n",
      "        [0.0000e+00, 0.0000e+00, 0.0000e+00],\n",
      "        [0.0000e+00, 0.0000e+00, 0.0000e+00],\n",
      "        [0.0000e+00, 0.0000e+00, 0.0000e+00],\n",
      "        [0.0000e+00, 0.0000e+00, 0.0000e+00]])\n",
      "tensor([[[[0.8877],\n",
      "          [0.0137]],\n",
      "\n",
      "         [[0.5451],\n",
      "          [0.0204]]],\n",
      "\n",
      "\n",
      "        [[[0.0672],\n",
      "          [0.3024]],\n",
      "\n",
      "         [[0.3369],\n",
      "          [0.8702]]]])\n"
     ]
    }
   ],
   "source": [
    "x = torch.Tensor(5, 3)\n",
    "print(x)\n",
    "\n",
    "x = torch.rand(2,2,2,1)\n",
    "print(x)"
   ]
  },
  {
   "cell_type": "markdown",
   "metadata": {},
   "source": [
    "Note that torch.Tensor yields an <i>uninitialized</i> tensor with dimensions specified. The parameters specify the size of each dimension of the tensor, and you can specify as many dimensions as you like. By default a tensor is a FloatTensor that holds 32-bit floats. There are tensors for other data types: torch.float64, torch.float16, .uint8, .int16, .int32, .int64.\n",
    "\n",
    "You can also pass in data that you want to put in a tensor."
   ]
  },
  {
   "cell_type": "code",
   "execution_count": null,
   "metadata": {},
   "outputs": [],
   "source": [
    "## Even though I pass in a multidimensional list of int's, torch.Tensor always gives me a FloatTensor.\n",
    "x = torch.Tensor([[1, 1, 1,1],[2,2,2,2],[3,3,3,3],[4,4,4,4]])\n",
    "print(x)\n",
    "\n",
    "x = torch.zeros(4,4)\n",
    "print(x) \n",
    "\n",
    "x = torch.ones(2,2)\n",
    "print(x) "
   ]
  },
  {
   "cell_type": "markdown",
   "metadata": {},
   "source": [
    "Check out everything you can do with Tensors here: https://pytorch.org/docs/stable/torch.html\n",
    "\n",
    "<b>First super cool thing about PyTorch:</b> it is trivial to translate a pytorch tensor to a numpy ndarray, and vice versa. (numpy ndarray's are a most often used data type for loading and reading numeric data in Python)."
   ]
  },
  {
   "cell_type": "code",
   "execution_count": null,
   "metadata": {},
   "outputs": [],
   "source": [
    "x = torch.Tensor([[1,1,1],[2,2,2],[3,3,3]])\n",
    "\n",
    "## From pytorch to numpy: \n",
    "y = x.numpy()\n",
    "print(x)\n",
    "print(y)\n",
    "print(type(y))\n",
    "\n",
    "## from numpy to pytorch: just pass a numpy ndarray in! \n",
    "z = torch.Tensor(y)\n",
    "print(z)\n",
    "\n",
    "## element-wise comparison of FloatTensors y and z...\n",
    "y==z"
   ]
  },
  {
   "cell_type": "markdown",
   "metadata": {},
   "source": [
    "**Indexing tensors**: Pytorch tensors support numpy like indexing of tensors. For example:"
   ]
  },
  {
   "cell_type": "code",
   "execution_count": null,
   "metadata": {},
   "outputs": [],
   "source": [
    "## x will be a 2x4x4 tensor: the first dimension has 2 elements, each of which is a 4x4 matrix.\n",
    "x = torch.Tensor([\n",
    "                  [[1,1,1,1],\n",
    "                   [2,2,2,2],\n",
    "                   [3,3,3,3],\n",
    "                   [4,4,4,4]],\n",
    "                  \n",
    "                  [[10,10,10,10],\n",
    "                   [20,20,20,20],\n",
    "                   [30,30,30,30],\n",
    "                   [40,40,40,40]]\n",
    "    \n",
    "                ])\n",
    "print(x)\n",
    "## x.shape will get you an indexible list of the shape of a tensor.\n",
    "print(x.shape[0])\n",
    "print(x.shape[1])\n",
    "print(x.shape[2])\n",
    "\n",
    "## Slice and dice the tensor! Remember that tensors are 0 based, and the notation \n",
    "## a:b \n",
    "## means to fetch elements in indices starting from a and up to (but not including) b.\n",
    "\n",
    "# All elements in the first index of the first dimension of x\n",
    "print(x[0,:,:])\n",
    "# Elements in rows 1, 2, 3 and col 1, 2, 3 of the first index of the first dimension of x\n",
    "print(x[0,1:4,1:4])\n",
    "# Elements in all rows starting from the 3rd and all columns until the 2nd of the first dimension of x\n",
    "print(x[0,2:,:2])\n",
    "# Elements in all rows starting from the 4rd and all columns until the 1st of the first dimension of x\n",
    "print(x[0,3:,:1])\n",
    "# Elements in rows 2 and 3 and all columns of the second dimension of x\n",
    "print(x[1,1:3,:])\n",
    "\n",
    "### Practice slicing and dicing, this is important! Think of a subtensor and device a way to slice it. \n",
    "print(x[:-1,:,:])"
   ]
  },
  {
   "cell_type": "markdown",
   "metadata": {},
   "source": [
    "## GPU Computing\n",
    "\n",
    "<b> Why GPU computing?? </b>\n",
    "<ol>\n",
    "    <li> GPUs have more computing cores (GTX 1080ti: 2560 cores; intel i7 CPU: 8 cores?), alebit slower than a CPU\n",
    "    <li> GPUs have an extremely fast bus between GPU and on-board video card memory, typically 3-4x faster than bus between CPU and RAM\n",
    "    <li> GPUs have custom built libraries (e.g. CUDA) for ultra-efficient numerical computation\n",
    "</ol>\n",
    "<img src=\"data:image/jpeg;base64,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\">\n",
    "\n",
    "<b> Key Weakness: </b> It is <b>expensive</b> to transfer data between RAM and GPU memory. GPUs operate on instructions given by a CPU, but all of the data a GPU operates on must be stored in GPU memory. It is an <i>expensive</i> path for data to travel from RAM --> CPU --> bus --> PCIe interface --> bus --> GPU and back.\n",
    "**Even a modern PCIe interface is about twice as slow as busses from RAM to CPU.**\n",
    "\n",
    "Therefore, when we compute on GPUs, we want to be sure that all variables and data we need are loaded into GPU memory prior to code execution. We should <b>never</b> run an operation on data that lives in both main memory and GPU memory. For example, adding a Tensor in RAM with a Tensor in GPU memory is going to be slow and inefficient.\n",
    "If you are doing operations between objects in RAM and in GPU in loops in long executions, expect a 2-3x performance drop! \n",
    "\n",
    "<b>I will assume that PyTorch is configured to work with CUDA on the video card of your system. </b> If you are using the ATRC GPU compute nodes this is satisfied. So note that none of this will work on ATI video cards! \n",
    "\n",
    "It is trivial to create a tensor onto the GPU:"
   ]
  },
  {
   "cell_type": "code",
   "execution_count": null,
   "metadata": {},
   "outputs": [],
   "source": [
    "x = torch.cuda.FloatTensor([[1,1,1],[1.5,1.5,1.5],[2.1,2.2,2.3]])\n",
    "print(x)"
   ]
  },
  {
   "cell_type": "markdown",
   "metadata": {},
   "source": [
    "We see the float tensor was assigned to GPU 0. Most any type of tensor can be moved to a gpu by prepending cuda. to its instantiation. \n",
    "\n",
    "If you are running on a node with multiple GPUs (and indeed some of our machines have more than one video card, you can explicitly assign what device the tensor should go to with the device parameter (devices are 0-indexed):"
   ]
  },
  {
   "cell_type": "code",
   "execution_count": null,
   "metadata": {},
   "outputs": [],
   "source": [
    "x = torch.cuda.FloatTensor([[1,1,1],[1.5,1.5,1.5],[2.1,2.2,2.3]], device=1)\n",
    "print(x)"
   ]
  },
  {
   "cell_type": "markdown",
   "metadata": {},
   "source": [
    "You can also move a tensor from RAM to GPU memory by calling .cuda() on the tensor:\n",
    "(also look up .cpu and .to)"
   ]
  },
  {
   "cell_type": "code",
   "execution_count": null,
   "metadata": {},
   "outputs": [],
   "source": [
    "y = torch.rand(5,3)\n",
    "print(y)\n",
    "x = y.cuda()\n",
    "print(x)"
   ]
  },
  {
   "cell_type": "markdown",
   "metadata": {},
   "source": [
    "**Performance Comparison:**"
   ]
  },
  {
   "cell_type": "code",
   "execution_count": null,
   "metadata": {},
   "outputs": [],
   "source": [
    "from timeit import default_timer as timer\n",
    "\n",
    "## multiply two matrices with 10,000,000 entries\n",
    "x = torch.rand(10000,1000)\n",
    "y = torch.rand(1000,10000)\n",
    "start = timer()\n",
    "torch.mm(x,y)\n",
    "end = timer()\n",
    "print('time to matrix multiply 2 tensors in RAM:',end - start)\n",
    "\n",
    "a = x.cuda()\n",
    "b = y.cuda()\n",
    "\n",
    "start = timer()\n",
    "z = x.cuda() \n",
    "torch.mm(z,b) ##PyTorch forces you to move x to the GPU before running matrix multiplication.\n",
    "end = timer()\n",
    "print('time to matrix multiply 2 tensors, one in RAM one in GPU memory:',end - start)\n",
    "\n",
    "start = timer()\n",
    "torch.mm(a,b)\n",
    "end = timer()\n",
    "print('time to matrix multiply 2 tensors in GPU memory:',end - start)\n"
   ]
  },
  {
   "cell_type": "markdown",
   "metadata": {},
   "source": [
    "There are tons of math ops you can do on Tensors; see <a href=\"https://pytorch.org/docs/stable/torch.html?highlight=tensor#math-operations\"> this link </a> for a complete list. We enumerate over some of them here. "
   ]
  },
  {
   "cell_type": "code",
   "execution_count": null,
   "metadata": {},
   "outputs": [],
   "source": [
    "x = torch.Tensor([[1,1,1],[2,2,2],[3,3,3]])\n",
    "print(\"X\")\n",
    "print(x)\n",
    "\n",
    "### Note that x.add(1) returns a tensor that has 1 added to every element of x. It does <b>not</b> update x in place.\n",
    "x.add(1)\n",
    "print(\"x.add(1)\")\n",
    "print(x)\n",
    "\n",
    "### Note: adding the _ suffix to many tensor ops will cause the op to occur in place.\n",
    "x = x.add_(1)\n",
    "print(\"x.add_(1)\")\n",
    "print(x)\n",
    "\n",
    "print(\"x+1\")\n",
    "print(x+1)\n",
    "\n",
    "## Important: Tensor multiplication via * is the hadamard product (component wise multiplication). \n",
    "x = torch.Tensor([0.5,0.5,0.5])\n",
    "y = torch.Tensor([2, 4, 6])\n",
    "print(x*y)\n",
    "\n",
    "## Matrix multiplication is achieved by mm\n",
    "print(torch.mm(x,y))"
   ]
  },
  {
   "cell_type": "markdown",
   "metadata": {},
   "source": [
    "**Reshaping Tensors:** Note that the matrix multiplication failed because x and y are 3x1 tensors. We can easily reshape tensors to transfer their elements into a tensor with new dimension. In numpy we have the **reshape** function, in PyTorch this is called the **view** function."
   ]
  },
  {
   "cell_type": "code",
   "execution_count": null,
   "metadata": {},
   "outputs": [],
   "source": [
    "y = torch.Tensor([2, 4, 6, 8])\n",
    "print(y.view(2,2))\n",
    "print(y.view(1,4))\n",
    "print(y.view(4,1))\n",
    "print(y.view(2,2,1))\n",
    "print(y.view(2,1,2))\n",
    "print(y.view(1,2,2))\n",
    "print(y.view(1,2,1,2))\n",
    "\n",
    "# -1 figures out the dimension size automatically\n",
    "print(y.view(-1, 2))\n",
    "\n",
    "x = torch.Tensor([[0.5,0.5],[0.5,0.5]])\n",
    "print(torch.mm(x,y.view(2,2)))"
   ]
  },
  {
   "cell_type": "code",
   "execution_count": null,
   "metadata": {},
   "outputs": [],
   "source": [
    "## Random Sampling Ops. I fix the random sampling seed to get consistent results. \n",
    "torch.manual_seed(1234)\n",
    "\n",
    "## Get a tensor of numbers drawn from the uniform distribution over [0,1]\n",
    "y = torch.rand(5,3)\n",
    "print(y)\n",
    "\n",
    "## Sample from bernoulli dist. Input tensor is the parameter p for each draw. Output is same size as input tensor.\n",
    "print(torch.bernoulli(y))\n",
    "\n",
    "## Changing seed just to show affect on random samples\n",
    "torch.manual_seed(2345)\n",
    "print(torch.bernoulli(y))\n",
    "\n",
    "## Sample from normal distribution. Param 1: tensor of means, Param 2: tensor of variance terms.\n",
    "## output: a tensor whose entry ij is a draw from a normal with mean p1_ij and variance p2_ij.\n",
    "print(torch.normal(y, torch.rand(5,3)))\n",
    "\n",
    "x = torch.Tensor([[1,1,1],[2,2,2],[3,3,3]])\n",
    "print('exponential:', torch.exp(x))\n",
    "\n",
    "x = torch.Tensor([0.5,0.5,0.5])\n",
    "print(2*x)\n",
    "\n"
   ]
  },
  {
   "cell_type": "markdown",
   "metadata": {},
   "source": [
    "**Redution methods** tend to be really useful for deep learning."
   ]
  },
  {
   "cell_type": "code",
   "execution_count": null,
   "metadata": {},
   "outputs": [],
   "source": [
    "x = torch.Tensor([[2.0,3.4,5.3,1.1],\n",
    "                  [4.3,1.2,6.6,2.3],\n",
    "                  [8.9,0.2,0.1,9.9]])\n",
    "print(x)\n",
    "print(torch.max(x))\n",
    "\n",
    "## Get the max value and index of max value along the each dimension of tensor x.\n",
    "## dim 0: Rows. So get the max value of index 0 of all rows, index 1 of all rows, etc. \n",
    "max_val, arg_max = torch.max(x,0)\n",
    "print(max_val,arg_max)\n",
    "\n",
    "## dim 1: Cols. So get the max value of index 0 of all columns, index 1 of all cols, etc. \n",
    "max_val, arg_max = torch.max(x,1)\n",
    "print(max_val,arg_max)\n",
    "\n",
    "## dim 2: depth\n",
    "x = torch.Tensor([[[2.0,3.4,5.3,1.1],\n",
    "                  [4.3,1.2,6.6,2.3],\n",
    "                  [8.9,0.2,0.1,9.9]]])\n",
    "x.shape\n",
    "max_val, arg_max = torch.max(x,2)\n",
    "print(max_val,arg_max)\n",
    "\n",
    "min_val, arg_min = torch.min(x,1)\n",
    "print('min val and arg min:', min_val,arg_min)\n",
    "\n",
    "print(x)\n",
    "print('top-k values along the second dimension of x, with indices:', torch.topk(x,k=2,dim=1))"
   ]
  },
  {
   "cell_type": "markdown",
   "metadata": {},
   "source": [
    "Author: Derek Doran, ATRC Summer 2018"
   ]
  },
  {
   "cell_type": "code",
   "execution_count": 3,
   "metadata": {},
   "outputs": [
    {
     "name": "stdout",
     "output_type": "stream",
     "text": [
      "Torch version: 2.5.1+cu124\n",
      "Is CUDA enabled? True\n"
     ]
    }
   ],
   "source": [
    "print(\"Torch version:\",torch.__version__)\n",
    "\n",
    "print(\"Is CUDA enabled?\",torch.cuda.is_available())"
   ]
  }
 ],
 "metadata": {
  "kernelspec": {
   "display_name": "r-osgc",
   "language": "python",
   "name": "python3"
  },
  "language_info": {
   "codemirror_mode": {
    "name": "ipython",
    "version": 3
   },
   "file_extension": ".py",
   "mimetype": "text/x-python",
   "name": "python",
   "nbconvert_exporter": "python",
   "pygments_lexer": "ipython3",
   "version": "3.10.10"
  }
 },
 "nbformat": 4,
 "nbformat_minor": 4
}
