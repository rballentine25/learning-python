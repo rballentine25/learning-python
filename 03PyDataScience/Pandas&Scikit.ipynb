{
 "cells": [
  {
   "cell_type": "markdown",
   "metadata": {},
   "source": [
    "# Pandas\n",
    "## Series/vectors \n",
    "* a series is a 1D array that can hold any data type and can be indexed by labels as well as zero-based integers\n",
    "* data within a series does not have to be homogeneous \n",
    "* can be created from a list with standard integer indexing or given labels\n",
    "* can be created from dictionary key-value pairs, or as a repeated series"
   ]
  },
  {
   "cell_type": "code",
   "execution_count": 163,
   "metadata": {},
   "outputs": [
    {
     "name": "stdout",
     "output_type": "stream",
     "text": [
      "from standard list:\n",
      " 0    2\n",
      "1    3\n",
      "2    4\n",
      "3    5\n",
      "4    6\n",
      "dtype: int64\n",
      "custom indexing: from lists\n",
      " a    2\n",
      "b    3\n",
      "c    4\n",
      "d    5\n",
      "e    6\n",
      "dtype: int64\n",
      "\n",
      "from a dictionary:\n",
      " sun     1\n",
      "mon     2\n",
      "tues    3\n",
      "wed     4\n",
      "dtype: int64\n",
      "\n",
      "repeated values:\n",
      " x    3\n",
      "y    3\n",
      "z    3\n",
      "dtype: int64\n"
     ]
    }
   ],
   "source": [
    "import pandas as pd\n",
    "\n",
    "# converting from list with standard indexing\n",
    "list = [2, 3, 4, 5, 6]\n",
    "series1 = pd.Series(list)\n",
    "print(\"from standard list:\\n\", series1)\n",
    "\n",
    "# converting from list with custom indexing\n",
    "index = ['a','b','c','d','e']\n",
    "series2_1 = pd.Series(list, index=index)\n",
    "series2_2 = pd.Series(list, index=['f','g','h','i','j'])\n",
    "print(\"custom indexing: from lists\\n\", series2_1)\n",
    "\n",
    "# from dictionary\n",
    "dict = {'sun':1, 'mon':2, 'tues':3, 'wed':4}\n",
    "series3 = pd.Series(dict)\n",
    "print(\"\\nfrom a dictionary:\\n\", series3)\n",
    "\n",
    "# repeating values\n",
    "series4 = pd.Series(3, index=['x','y','z'])\n",
    "print(\"\\nrepeated values:\\n\", series4)"
   ]
  },
  {
   "cell_type": "markdown",
   "metadata": {},
   "source": [
    "## dataframes\n",
    "* dataframes are 2d tables similar to spreadsheets\n",
    "* dataframes have homogeneous data within each column, but the columns can be heterogeneous from each other \n",
    "* dataframes are size mutable within columns and overall\n",
    "* they can be created from a dictionary, excel spreadsheet, a list of lists, or from a numpy array"
   ]
  },
  {
   "cell_type": "code",
   "execution_count": 164,
   "metadata": {},
   "outputs": [
    {
     "name": "stdout",
     "output_type": "stream",
     "text": [
      "from dictionary:\n",
      "         UID  GPA  Year\n",
      "0  11223300  3.1     1\n",
      "1  22334400  3.9     4\n",
      "2  33445500  2.3     2\n",
      "\n",
      "from numpy array\n",
      "    int  float      frac\n",
      "0  1.0    2.4  0.200000\n",
      "1  2.0    4.3  0.333333\n"
     ]
    }
   ],
   "source": [
    "# from dictionary\n",
    "dict2 = {\n",
    "    \"UID\": [11223300, 22334400, 33445500],\n",
    "    \"GPA\": [3.1, 3.9, 2.3],\n",
    "    \"Year\": [1, 4, 2]\n",
    "}\n",
    "dictFrame = pd.DataFrame(dict2)\n",
    "print(\"from dictionary:\\n\", dictFrame)\n",
    "\n",
    "import numpy as np\n",
    "# from numpy array\n",
    "nparray = np.array([[1, 2.4, 1/5],[2, 4.3, 2/6]])\n",
    "npFrame = pd.DataFrame(nparray, columns=['int','float','frac'])\n",
    "print(\"\\nfrom numpy array\\n\", npFrame)"
   ]
  },
  {
   "cell_type": "markdown",
   "metadata": {},
   "source": [
    "### reading and writing files\n",
    "* reading a csv file: pd.read_csv(filename)\n",
    "* writing to csv: frameName.to_csv(filename)\n",
    "* reading a excel file: pd.read_excel(filename)\n",
    "* writing to excel: frameName.to_excel(filename)"
   ]
  },
  {
   "cell_type": "code",
   "execution_count": 165,
   "metadata": {},
   "outputs": [
    {
     "data": {
      "text/html": [
       "<div>\n",
       "<style scoped>\n",
       "    .dataframe tbody tr th:only-of-type {\n",
       "        vertical-align: middle;\n",
       "    }\n",
       "\n",
       "    .dataframe tbody tr th {\n",
       "        vertical-align: top;\n",
       "    }\n",
       "\n",
       "    .dataframe thead th {\n",
       "        text-align: right;\n",
       "    }\n",
       "</style>\n",
       "<table border=\"1\" class=\"dataframe\">\n",
       "  <thead>\n",
       "    <tr style=\"text-align: right;\">\n",
       "      <th></th>\n",
       "      <th>species</th>\n",
       "      <th>size</th>\n",
       "      <th>fragrance</th>\n",
       "      <th>height_cm</th>\n",
       "    </tr>\n",
       "  </thead>\n",
       "  <tbody>\n",
       "    <tr>\n",
       "      <th>0</th>\n",
       "      <td>rose</td>\n",
       "      <td>medium</td>\n",
       "      <td>mild</td>\n",
       "      <td>48.55</td>\n",
       "    </tr>\n",
       "    <tr>\n",
       "      <th>1</th>\n",
       "      <td>shoeblack plant</td>\n",
       "      <td>medium</td>\n",
       "      <td>mild</td>\n",
       "      <td>147.07</td>\n",
       "    </tr>\n",
       "    <tr>\n",
       "      <th>2</th>\n",
       "      <td>shoeblack plant</td>\n",
       "      <td>medium</td>\n",
       "      <td>none</td>\n",
       "      <td>102.93</td>\n",
       "    </tr>\n",
       "    <tr>\n",
       "      <th>3</th>\n",
       "      <td>hibiscus</td>\n",
       "      <td>large</td>\n",
       "      <td>none</td>\n",
       "      <td>184.00</td>\n",
       "    </tr>\n",
       "    <tr>\n",
       "      <th>4</th>\n",
       "      <td>shoeblack plant</td>\n",
       "      <td>large</td>\n",
       "      <td>mild</td>\n",
       "      <td>83.07</td>\n",
       "    </tr>\n",
       "  </tbody>\n",
       "</table>\n",
       "</div>"
      ],
      "text/plain": [
       "           species    size fragrance  height_cm\n",
       "0             rose  medium      mild      48.55\n",
       "1  shoeblack plant  medium      mild     147.07\n",
       "2  shoeblack plant  medium      none     102.93\n",
       "3         hibiscus   large      none     184.00\n",
       "4  shoeblack plant   large      mild      83.07"
      ]
     },
     "execution_count": 165,
     "metadata": {},
     "output_type": "execute_result"
    }
   ],
   "source": [
    "# reading from a csv file:\n",
    "flowerset = pd.read_csv('flower_dataset.csv')\n",
    "flowerset.head()"
   ]
  },
  {
   "cell_type": "markdown",
   "metadata": {},
   "source": [
    "### querying \n",
    "* boolean indexing: frame[frame[label] >=< value]\n",
    "* .query('label <=> value and label <=> value')\n",
    "* .loc[]\n",
    "* isin(): frame[frame[label].isin(value)]\n",
    "* between(): filters for values between two given values. frame[frame[label].between(low, high)]"
   ]
  },
  {
   "cell_type": "code",
   "execution_count": 166,
   "metadata": {},
   "outputs": [
    {
     "name": "stdout",
     "output_type": "stream",
     "text": [
      "              species    size fragrance  height_cm\n",
      "0                rose  medium      mild      48.55\n",
      "1     shoeblack plant  medium      mild     147.07\n",
      "2     shoeblack plant  medium      none     102.93\n",
      "15    shoeblack plant  medium      none     101.99\n",
      "16               rose  medium    strong      33.10\n",
      "...               ...     ...       ...        ...\n",
      "9983             rose  medium      mild      64.34\n",
      "9986             rose  medium    strong      48.27\n",
      "9989             rose  medium    strong      50.14\n",
      "9996  shoeblack plant  medium      mild     145.23\n",
      "9999             rose  medium      mild      88.11\n",
      "\n",
      "[3337 rows x 4 columns]\n",
      "\n",
      "     species    size fragrance  height_cm\n",
      "2993    rose  medium      mild      30.85\n",
      "3784    rose  medium      mild      30.70\n",
      "4716    rose  medium      mild      30.53\n",
      "5875    rose  medium      mild      30.54\n",
      "6925    rose  medium      mild      30.23\n",
      "7070    rose  medium      mild      30.85\n",
      "7130    rose  medium      mild      30.27\n",
      "8221    rose  medium      mild      30.94\n",
      "8448    rose  medium      mild      30.36\n",
      "9587    rose  medium      mild      30.89\n",
      "9625    rose  medium      mild      30.55\n",
      "9831    rose  medium      mild      30.55\n"
     ]
    }
   ],
   "source": [
    "filter1 = flowerset[flowerset['size'] == 'medium']\n",
    "print(filter1)\n",
    "print()\n",
    "filter2 = flowerset.query('size == \"medium\" and fragrance == \"mild\" and height_cm < 31')\n",
    "print(filter2)"
   ]
  },
  {
   "cell_type": "markdown",
   "metadata": {},
   "source": [
    "### resizing: adding/dropping columns\n",
    "* declaring a list as a new column \n",
    "* frame.insert(loc, column, value), where loc is insertion index, column is the column label, value is the column values\n",
    "* frame.assign(**kwargs): returns a NEW dataframe with updated/added columns. good for if the new column will be the same for chunks of the preexisting frame, for modifying singular values, or for changing large chunks of values to same value. also wors with lambda functions\n",
    "* pd.concat(objs, axis, join,...), where objs are the data frame(s) to be combined, axis is the axis to concatenate along (0 for rows, 1 for columns)\n",
    "* frame.drop(labels, axis=1) drops the specified column(s)"
   ]
  },
  {
   "cell_type": "code",
   "execution_count": 167,
   "metadata": {},
   "outputs": [
    {
     "name": "stdout",
     "output_type": "stream",
     "text": [
      "     species    size fragrance  height_cm   color\n",
      "2993    rose  medium      mild      30.85   white\n",
      "3784    rose  medium      mild      30.70    pink\n",
      "4716    rose  medium      mild      30.53  yellow\n",
      "5875    rose  medium      mild      30.54  yellow\n",
      "6925    rose  medium      mild      30.23    pink\n",
      "7070    rose  medium      mild      30.85   white\n",
      "7130    rose  medium      mild      30.27  yellow\n",
      "8221    rose  medium      mild      30.94    pink\n",
      "8448    rose  medium      mild      30.36     red\n",
      "9587    rose  medium      mild      30.89  yellow\n",
      "9625    rose  medium      mild      30.55     red\n",
      "9831    rose  medium      mild      30.55    pink\n"
     ]
    }
   ],
   "source": [
    "# adding a new column: with a list\n",
    "colorlist = []\n",
    "colors = ['red','yellow','pink','white']\n",
    "for i in range(len(flowerset)):\n",
    "    if flowerset.loc[i, 'species'] == 'rose':\n",
    "        colorlist.append(np.random.choice(colors))\n",
    "    else:\n",
    "        colorlist.append(\"-\")\n",
    "flowerset['color'] = colorlist\n",
    "\n",
    "filter2 = flowerset.query('size == \"medium\" and fragrance == \"mild\" and height_cm < 31')\n",
    "print(filter2)\n"
   ]
  },
  {
   "cell_type": "markdown",
   "metadata": {},
   "source": [
    "### slicing \n",
    "* rows by index range: frame[1:4]\n",
    "* rows and colums: frame.loc[] allows slicing by labels, frame.iloc[] allows slicing by integer indicies"
   ]
  },
  {
   "cell_type": "code",
   "execution_count": 168,
   "metadata": {},
   "outputs": [
    {
     "name": "stdout",
     "output_type": "stream",
     "text": [
      "             species  color\n",
      "1    shoeblack plant      -\n",
      "2    shoeblack plant      -\n",
      "3           hibiscus      -\n",
      "4    shoeblack plant      -\n",
      "5           hibiscus      -\n",
      "..               ...    ...\n",
      "96              rose  white\n",
      "97              rose   pink\n",
      "98   shoeblack plant      -\n",
      "99          hibiscus      -\n",
      "100             rose    red\n",
      "\n",
      "[100 rows x 2 columns]\n",
      "            species    size\n",
      "4   shoeblack plant   large\n",
      "5          hibiscus   large\n",
      "6              rose   small\n",
      "7              rose   small\n",
      "8          hibiscus   large\n",
      "9   shoeblack plant   large\n",
      "10             rose   small\n",
      "11             rose   small\n",
      "12         hibiscus   large\n",
      "13         hibiscus   large\n",
      "14             rose   small\n",
      "15  shoeblack plant  medium\n"
     ]
    }
   ],
   "source": [
    "sliced1 = flowerset.loc[1:100, ['species','color']]\n",
    "print(sliced1)\n",
    "\n",
    "sliced2 = flowerset.iloc[4:16, 0:2]\n",
    "print(sliced2)"
   ]
  },
  {
   "cell_type": "markdown",
   "metadata": {},
   "source": [
    "# Sci-kit learn"
   ]
  },
  {
   "cell_type": "markdown",
   "metadata": {},
   "source": [
    "* also referred to as sklearn, is built on top of numpy\n",
    "* common practice is to save features to variable X and the labels to variable Y\n",
    "\n",
    "modules of interest:\n",
    "1. datasets (.datasets) includes loaders to load external datasets and generators to provide small datasets (called 'toy' datasets)\n",
    "2. preprocessing (.preprocessing) includes methods to preprocess data, such as LabelEncoder, robust_scale and scale (for standardizing), normalize, etc\n",
    "3. model selection (.model_selection) to split data, perform cross validation, etc\n",
    "4. metrics (.metrics) methods for model selection interface (scorers), classification metrics (accuracy scores, area under curve, confusion matrix, error rates, precision, etc), regression metrics (abs error, variance, max error, MSE, RMS, etc), multilabel ranking metrics, clustering metrics (calinski-harabasz, davies-bouldin, silhouette, etc), biclustering, distance, pairwise, plotting (confusion matrix, DET curve, prediction error visualization) \n",
    "5. linear models (.linear_model)\n",
    "6. tree based models (.tree) like DecisionTreeClassifier and DecisionTreeRegressor\n",
    "7. ensemble methods (.ensemble) like RandomForestClassifier\n",
    "8. neighbors (.neighbors) like KNeighborsClassifier\n",
    "9. naive bayes (.naive_bayes)\n",
    "10. clustering (.cluster) KMeans, DBSCAN\n",
    "11. feature selection (.feature_selection) and extraction (.feature.extraction)\n",
    "12. neural networks (.neural_network) MPL classifier and regressor\n",
    "13. calibration (.calibration)\n",
    "14. imputation (.impute) to handle missing data\n",
    "15. semi-sup learning (.semi_supervised) and discriminant analysis (.discriminant_analysis)\n",
    "16. exceptions (.exceptions) for exceptions unique to scikit learn\n"
   ]
  },
  {
   "cell_type": "markdown",
   "metadata": {},
   "source": [
    "## sci kit for random forest classifier"
   ]
  },
  {
   "cell_type": "markdown",
   "metadata": {},
   "source": [
    "### PREPROCESSING: converting from nonnumeric to numeric \n",
    "2 general ways to convert to numeric: label encoding is preferred for ordinal categories (when the category has an obvious order, like weak/medium/strong), and one-hot is preferred for categories with no particular order (like rose/lily/sunflower)\n",
    "1. label encoding: converts each unique value in a categorical column to an integer\n",
    "* import LabelEncoder from Preprocessing module\n",
    "* initialize an instance of LabelEncoder object\n",
    "* LabelEncoder works on a single column at a time, using the syntax dataFrame['newColumnName'] = label_encoder.fit_transform(data['origColumnName']). it can be applied to the whole frame using Pandas apply()\n",
    "2. one-hot coding: converts categorical variables into a series of binary columns; ex ['red','blue', 'purple'] becomes [[1, 0, 0], [0, 1, 0], [0, 0, 1]]\n",
    "* import OneHotEncoder from preprocessing\n",
    "* initialize an instance of OneHotEncoder, setting sparse_output to false to get a dense array. can set drop to certain indicies to drop certain columns?\n",
    "* apply oneHot by using OneHotEncoderName.fit_transform(variableData)\n",
    "* this will result in a numpy array which will have to be converted back to a dataframe. <br> Alternatively: use pandas.get_dummies(). \n",
    "\n",
    "<br>\n",
    "can also manually convert to numeric if there are only a few variables per category using the map method with key value pairs, ex: <br>\n",
    "fdata['size'] = fdata['size'].map({'small':1, 'medium':2, 'large':3})"
   ]
  },
  {
   "cell_type": "code",
   "execution_count": 175,
   "metadata": {},
   "outputs": [
    {
     "name": "stdout",
     "output_type": "stream",
     "text": [
      "      species_enc  size_enc  frag_enc\n",
      "0               4         1         0\n",
      "1              14         1         0\n",
      "2              14         1         1\n",
      "3               8         0         1\n",
      "4              14         0         0\n",
      "...           ...       ...       ...\n",
      "9995            8         0         1\n",
      "9996           14         1         0\n",
      "9997            8         0         1\n",
      "9998           14         0         1\n",
      "9999            4         1         0\n",
      "\n",
      "[10000 rows x 3 columns]\n"
     ]
    },
    {
     "data": {
      "text/html": [
       "<div>\n",
       "<style scoped>\n",
       "    .dataframe tbody tr th:only-of-type {\n",
       "        vertical-align: middle;\n",
       "    }\n",
       "\n",
       "    .dataframe tbody tr th {\n",
       "        vertical-align: top;\n",
       "    }\n",
       "\n",
       "    .dataframe thead th {\n",
       "        text-align: right;\n",
       "    }\n",
       "</style>\n",
       "<table border=\"1\" class=\"dataframe\">\n",
       "  <thead>\n",
       "    <tr style=\"text-align: right;\">\n",
       "      <th></th>\n",
       "      <th>species</th>\n",
       "      <th>size</th>\n",
       "      <th>fragrance</th>\n",
       "      <th>species_enc</th>\n",
       "      <th>size_enc</th>\n",
       "      <th>frag_enc</th>\n",
       "      <th>height_cm</th>\n",
       "    </tr>\n",
       "  </thead>\n",
       "  <tbody>\n",
       "    <tr>\n",
       "      <th>0</th>\n",
       "      <td>rose</td>\n",
       "      <td>medium</td>\n",
       "      <td>mild</td>\n",
       "      <td>4</td>\n",
       "      <td>1</td>\n",
       "      <td>0</td>\n",
       "      <td>48.55</td>\n",
       "    </tr>\n",
       "    <tr>\n",
       "      <th>1</th>\n",
       "      <td>shoeblack plant</td>\n",
       "      <td>medium</td>\n",
       "      <td>mild</td>\n",
       "      <td>14</td>\n",
       "      <td>1</td>\n",
       "      <td>0</td>\n",
       "      <td>147.07</td>\n",
       "    </tr>\n",
       "    <tr>\n",
       "      <th>2</th>\n",
       "      <td>shoeblack plant</td>\n",
       "      <td>medium</td>\n",
       "      <td>none</td>\n",
       "      <td>14</td>\n",
       "      <td>1</td>\n",
       "      <td>1</td>\n",
       "      <td>102.93</td>\n",
       "    </tr>\n",
       "    <tr>\n",
       "      <th>3</th>\n",
       "      <td>hibiscus</td>\n",
       "      <td>large</td>\n",
       "      <td>none</td>\n",
       "      <td>8</td>\n",
       "      <td>0</td>\n",
       "      <td>1</td>\n",
       "      <td>184.00</td>\n",
       "    </tr>\n",
       "    <tr>\n",
       "      <th>4</th>\n",
       "      <td>shoeblack plant</td>\n",
       "      <td>large</td>\n",
       "      <td>mild</td>\n",
       "      <td>14</td>\n",
       "      <td>0</td>\n",
       "      <td>0</td>\n",
       "      <td>83.07</td>\n",
       "    </tr>\n",
       "  </tbody>\n",
       "</table>\n",
       "</div>"
      ],
      "text/plain": [
       "           species    size fragrance  species_enc  size_enc  frag_enc  \\\n",
       "0             rose  medium      mild            4         1         0   \n",
       "1  shoeblack plant  medium      mild           14         1         0   \n",
       "2  shoeblack plant  medium      none           14         1         1   \n",
       "3         hibiscus   large      none            8         0         1   \n",
       "4  shoeblack plant   large      mild           14         0         0   \n",
       "\n",
       "   height_cm  \n",
       "0      48.55  \n",
       "1     147.07  \n",
       "2     102.93  \n",
       "3     184.00  \n",
       "4      83.07  "
      ]
     },
     "execution_count": 175,
     "metadata": {},
     "output_type": "execute_result"
    }
   ],
   "source": [
    "import sklearn\n",
    "import pandas as pd\n",
    "\n",
    "fdata = pd.read_csv(\"flower_dataset.csv\")\n",
    "\n",
    "# converting nonnumeric to numeric for random forest classification: using labelEncoder\n",
    "# species column is not ordinal, but i don't feel like messing with onehot encoding rn\n",
    "from sklearn.preprocessing import LabelEncoder\n",
    "lblEncoder = LabelEncoder()\n",
    "\n",
    "# remember: use iloc for accessing columns by numerical index. .iloc[rows, columns]\n",
    "encData = pd.DataFrame()\n",
    "encData[\"species_enc\"] = fdata[\"species\"].map({'rose':4, 'shoeblack plant':14, 'hibiscus':8})\n",
    "encData[[\"size_enc\", \"frag_enc\"]] = fdata.iloc[:, 1:-1].apply(lblEncoder.fit_transform)\n",
    "\n",
    "# use concat to insert encoded columns after original ones and before height column\n",
    "# considering fdata to be 2 frames (up to index 2 and index 3) and encData\n",
    "insertAt = fdata.columns.get_loc(\"height_cm\")\n",
    "fdata = pd.concat([fdata.iloc[:, :insertAt], encData, fdata.iloc[:, insertAt:]], axis=1)\n",
    "fdata.head()\n"
   ]
  },
  {
   "cell_type": "code",
   "execution_count": 181,
   "metadata": {},
   "outputs": [
    {
     "data": {
      "text/plain": [
       "0     4\n",
       "1    14\n",
       "2    14\n",
       "3     8\n",
       "4    14\n",
       "Name: species_enc, dtype: int64"
      ]
     },
     "execution_count": 181,
     "metadata": {},
     "output_type": "execute_result"
    }
   ],
   "source": [
    "# assuming target label is species (rose, shoeblack plant, or hibiscus)\n",
    "# dataframe drop method drops the specified row/column and keeps the rest of\n",
    "# the dataframe (axis=0 for index, axis=1 for columns). here drop up to encoded size column\n",
    "y = fdata[\"species_enc\"]\n",
    "X = fdata.drop(fdata.iloc[:, :fdata.columns.get_loc(\"size_enc\")], axis=1)\n",
    "\n",
    "# pandas value_counts shows counts of unique values, ex. how many of each\n",
    "# species is in the dataset\n",
    "y.value_counts()\n",
    "\n",
    "y.head()"
   ]
  },
  {
   "cell_type": "markdown",
   "metadata": {},
   "source": [
    "### PREPROCESSING: splitting data\n",
    "* scikit has a method to split datasets into training and testing sets\n",
    "* import train_test_split from sklearn.model_selection\n",
    "* train_test_split(*arrays, test_size, train_size, random_state, shuffle, stratify)\n",
    "* arrays is the input arrays to be split\n",
    "* test and train size are the proportion of the dataset to include in the split, betweeen 0.0 to 1.0. if neither are set, test will be set to 0.25. if only one is specified, the other will be set to its compliment (default is test=0.25, train=0.75)\n",
    "* random_state and shuffle determine whether the data is shuffled before and after splitting. default is none for random_state and true for shuffling\n",
    "* returns a tuple of arrays in the order ([array1_train], [array1_test], [array2_train], [array2_test], ... [arrayN_train], [arrayN_test]) up to the number of input arrays. these can be unpacked when calling the method"
   ]
  },
  {
   "cell_type": "code",
   "execution_count": 183,
   "metadata": {},
   "outputs": [
    {
     "name": "stdout",
     "output_type": "stream",
     "text": [
      "      size_enc  frag_enc  height_cm\n",
      "6782         1         1      78.99\n",
      "3009         2         2      48.58\n",
      "5416         1         1      62.41\n",
      "3877         0         1     144.75\n",
      "3713         0         1     119.45\n",
      "...        ...       ...        ...\n",
      "400          2         2      56.84\n",
      "1117         1         0      97.49\n",
      "6065         1         1     100.63\n",
      "2827         1         1     106.46\n",
      "3492         0         1     143.09\n",
      "\n",
      "[7500 rows x 3 columns]\n"
     ]
    }
   ],
   "source": [
    "from sklearn.model_selection import train_test_split\n",
    "\n",
    "# input X and Y and unpack into 4 lists. show shapes of these lists \n",
    "# at this point, data is ready to apply a model\n",
    "X_train, X_test, y_train, y_test = train_test_split(X, y, test_size = 0.25)\n",
    "X_train.shape, X_test.shape, y_train.shape, y_test.shape\n",
    "print(X_train)"
   ]
  },
  {
   "cell_type": "markdown",
   "metadata": {},
   "source": [
    "### FITTING\n",
    "* clf is short for classifier\n",
    "* documentation: https://scikit-learn.org/stable/modules/generated/sklearn.ensemble.RandomForestClassifier.html#sklearn.ensemble.RandomForestClassifier\n",
    "* use the get_params() method to return the parameters for the estimator\n",
    "* fit(X, y) method will actually create the classifier by fitting the data. only takes numerical data, so all nonnumeric data must be encoded first (during preprocessing)\n",
    "* after data is fitted, predict(X) can be used to actually predict the target values "
   ]
  },
  {
   "cell_type": "code",
   "execution_count": 184,
   "metadata": {},
   "outputs": [
    {
     "name": "stdout",
     "output_type": "stream",
     "text": [
      "accuracy is: 88.12%\n"
     ]
    }
   ],
   "source": [
    "from sklearn.ensemble import RandomForestClassifier\n",
    "clf = RandomForestClassifier()\n",
    "\n",
    "# use get_params() to see the current parameters for the classifier. leave \n",
    "# as default for now\n",
    "clf.get_params()\n",
    "\n",
    "# in order to use the fit() method, nonnumeric data has to be converted to numeric\n",
    "# fitting data to model\n",
    "clf.fit(X=X_train, y=y_train)\n",
    "\n",
    "# predicting:\n",
    "y_predict = clf.predict(X=X_test)\n",
    "\n",
    "# checking accuracy:\n",
    "from sklearn.metrics import accuracy_score\n",
    "train_acc = accuracy_score(y_test, y_predict)\n",
    "print(f\"accuracy is: {train_acc*100:.2f}%\")"
   ]
  },
  {
   "cell_type": "code",
   "execution_count": 186,
   "metadata": {},
   "outputs": [
    {
     "data": {
      "text/plain": [
       "<sklearn.metrics._plot.confusion_matrix.ConfusionMatrixDisplay at 0x2f527ecb910>"
      ]
     },
     "execution_count": 186,
     "metadata": {},
     "output_type": "execute_result"
    },
    {
     "data": {
      "image/png": "[encoded data removed]",
      "text/plain": [
       "<Figure size 640x480 with 2 Axes>"
      ]
     },
     "metadata": {},
     "output_type": "display_data"
    }
   ],
   "source": [
    "#from sklearn.metrics import confusion_matrix\n",
    "import sklearn.metrics as met\n",
    "cm = met.confusion_matrix(y_test, y_predict)\n",
    "met.ConfusionMatrixDisplay(confusion_matrix=cm, display_labels=[\"rose\",\"shoeblack\",\"hibiscus\"]).plot()"
   ]
  }
 ],
 "metadata": {
  "kernelspec": {
   "display_name": "base",
   "language": "python",
   "name": "python3"
  },
  "language_info": {
   "codemirror_mode": {
    "name": "ipython",
    "version": 3
   },
   "file_extension": ".py",
   "mimetype": "text/x-python",
   "name": "python",
   "nbconvert_exporter": "python",
   "pygments_lexer": "ipython3",
   "version": "3.11.7"
  }
 },
 "nbformat": 4,
 "nbformat_minor": 2
}
