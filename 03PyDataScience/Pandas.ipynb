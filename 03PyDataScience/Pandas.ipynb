{
 "cells": [
  {
   "cell_type": "markdown",
   "metadata": {},
   "source": [
    "# Pandas\n",
    "## Series/vectors \n",
    "* a series is a 1D array that can hold any data type and can be indexed by labels as well as zero-based integers\n",
    "* data within a series does not have to be homogeneous \n",
    "* can be created from a list with standard integer indexing or given labels\n",
    "* can be created from dictionary key-value pairs, or as a repeated series"
   ]
  },
  {
   "cell_type": "code",
   "execution_count": 47,
   "metadata": {},
   "outputs": [
    {
     "name": "stdout",
     "output_type": "stream",
     "text": [
      "from standard list:\n",
      " 0    2\n",
      "1    3\n",
      "2    4\n",
      "3    5\n",
      "4    6\n",
      "dtype: int64\n",
      "custom indexing: from lists\n",
      " a    2\n",
      "b    3\n",
      "c    4\n",
      "d    5\n",
      "e    6\n",
      "dtype: int64\n",
      "\n",
      "from a dictionary:\n",
      " sun     1\n",
      "mon     2\n",
      "tues    3\n",
      "wed     4\n",
      "dtype: int64\n",
      "\n",
      "repeated values:\n",
      " x    3\n",
      "y    3\n",
      "z    3\n",
      "dtype: int64\n"
     ]
    }
   ],
   "source": [
    "import pandas as pd\n",
    "\n",
    "# converting from list with standard indexing\n",
    "list = [2, 3, 4, 5, 6]\n",
    "series1 = pd.Series(list)\n",
    "print(\"from standard list:\\n\", series1)\n",
    "\n",
    "# converting from list with custom indexing\n",
    "index = ['a','b','c','d','e']\n",
    "series2_1 = pd.Series(list, index=index)\n",
    "series2_2 = pd.Series(list, index=['f','g','h','i','j'])\n",
    "print(\"custom indexing: from lists\\n\", series2_1)\n",
    "\n",
    "# from dictionary\n",
    "dict = {'sun':1, 'mon':2, 'tues':3, 'wed':4}\n",
    "series3 = pd.Series(dict)\n",
    "print(\"\\nfrom a dictionary:\\n\", series3)\n",
    "\n",
    "# repeating values\n",
    "series4 = pd.Series(3, index=['x','y','z'])\n",
    "print(\"\\nrepeated values:\\n\", series4)"
   ]
  },
  {
   "cell_type": "markdown",
   "metadata": {},
   "source": [
    "## dataframes\n",
    "* dataframes are 2d tables similar to spreadsheets\n",
    "* dataframes have homogeneous data within each column, but the columns can be heterogeneous from each other \n",
    "* dataframes are size mutable within columns and overall\n",
    "* they can be created from a dictionary, excel spreadsheet, a list of lists, or from a numpy array"
   ]
  },
  {
   "cell_type": "code",
   "execution_count": 48,
   "metadata": {},
   "outputs": [
    {
     "name": "stdout",
     "output_type": "stream",
     "text": [
      "from dictionary:\n",
      "         UID  GPA  Year\n",
      "0  11223300  3.1     1\n",
      "1  22334400  3.9     4\n",
      "2  33445500  2.3     2\n",
      "\n",
      "from numpy array\n",
      "    int  float      frac\n",
      "0  1.0    2.4  0.200000\n",
      "1  2.0    4.3  0.333333\n"
     ]
    }
   ],
   "source": [
    "# from dictionary\n",
    "dict2 = {\n",
    "    \"UID\": [11223300, 22334400, 33445500],\n",
    "    \"GPA\": [3.1, 3.9, 2.3],\n",
    "    \"Year\": [1, 4, 2]\n",
    "}\n",
    "dictFrame = pd.DataFrame(dict2)\n",
    "print(\"from dictionary:\\n\", dictFrame)\n",
    "\n",
    "import numpy as np\n",
    "# from numpy array\n",
    "nparray = np.array([[1, 2.4, 1/5],[2, 4.3, 2/6]])\n",
    "npFrame = pd.DataFrame(nparray, columns=['int','float','frac'])\n",
    "print(\"\\nfrom numpy array\\n\", npFrame)"
   ]
  },
  {
   "cell_type": "markdown",
   "metadata": {},
   "source": [
    "### reading and writing files\n",
    "* reading a csv file: pd.read_csv(filename)\n",
    "* writing to csv: frameName.to_csv(filename)\n",
    "* reading a excel file: pd.read_excel(filename)\n",
    "* writing to excel: frameName.to_excel(filename)"
   ]
  },
  {
   "cell_type": "code",
   "execution_count": 49,
   "metadata": {},
   "outputs": [
    {
     "data": {
      "text/html": [
       "<div>\n",
       "<style scoped>\n",
       "    .dataframe tbody tr th:only-of-type {\n",
       "        vertical-align: middle;\n",
       "    }\n",
       "\n",
       "    .dataframe tbody tr th {\n",
       "        vertical-align: top;\n",
       "    }\n",
       "\n",
       "    .dataframe thead th {\n",
       "        text-align: right;\n",
       "    }\n",
       "</style>\n",
       "<table border=\"1\" class=\"dataframe\">\n",
       "  <thead>\n",
       "    <tr style=\"text-align: right;\">\n",
       "      <th></th>\n",
       "      <th>species</th>\n",
       "      <th>size</th>\n",
       "      <th>fragrance</th>\n",
       "      <th>height_cm</th>\n",
       "    </tr>\n",
       "  </thead>\n",
       "  <tbody>\n",
       "    <tr>\n",
       "      <th>0</th>\n",
       "      <td>rose</td>\n",
       "      <td>medium</td>\n",
       "      <td>mild</td>\n",
       "      <td>48.55</td>\n",
       "    </tr>\n",
       "    <tr>\n",
       "      <th>1</th>\n",
       "      <td>shoeblack plant</td>\n",
       "      <td>medium</td>\n",
       "      <td>mild</td>\n",
       "      <td>147.07</td>\n",
       "    </tr>\n",
       "    <tr>\n",
       "      <th>2</th>\n",
       "      <td>shoeblack plant</td>\n",
       "      <td>medium</td>\n",
       "      <td>none</td>\n",
       "      <td>102.93</td>\n",
       "    </tr>\n",
       "    <tr>\n",
       "      <th>3</th>\n",
       "      <td>hibiscus</td>\n",
       "      <td>large</td>\n",
       "      <td>none</td>\n",
       "      <td>184.00</td>\n",
       "    </tr>\n",
       "    <tr>\n",
       "      <th>4</th>\n",
       "      <td>shoeblack plant</td>\n",
       "      <td>large</td>\n",
       "      <td>mild</td>\n",
       "      <td>83.07</td>\n",
       "    </tr>\n",
       "  </tbody>\n",
       "</table>\n",
       "</div>"
      ],
      "text/plain": [
       "           species    size fragrance  height_cm\n",
       "0             rose  medium      mild      48.55\n",
       "1  shoeblack plant  medium      mild     147.07\n",
       "2  shoeblack plant  medium      none     102.93\n",
       "3         hibiscus   large      none     184.00\n",
       "4  shoeblack plant   large      mild      83.07"
      ]
     },
     "execution_count": 49,
     "metadata": {},
     "output_type": "execute_result"
    }
   ],
   "source": [
    "# reading from a csv file:\n",
    "flowerset = pd.read_csv('flower_dataset.csv')\n",
    "flowerset.head()"
   ]
  },
  {
   "cell_type": "markdown",
   "metadata": {},
   "source": [
    "### querying \n",
    "* boolean indexing: frame[frame[label] >=< value]\n",
    "* .query('label <=> value and label <=> value')\n",
    "* .loc[]\n",
    "* isin(): frame[frame[label].isin(value)]\n",
    "* between(): filters for values between two given values. frame[frame[label].between(low, high)]"
   ]
  },
  {
   "cell_type": "code",
   "execution_count": 50,
   "metadata": {},
   "outputs": [
    {
     "name": "stdout",
     "output_type": "stream",
     "text": [
      "              species    size fragrance  height_cm\n",
      "0                rose  medium      mild      48.55\n",
      "1     shoeblack plant  medium      mild     147.07\n",
      "2     shoeblack plant  medium      none     102.93\n",
      "15    shoeblack plant  medium      none     101.99\n",
      "16               rose  medium    strong      33.10\n",
      "...               ...     ...       ...        ...\n",
      "9983             rose  medium      mild      64.34\n",
      "9986             rose  medium    strong      48.27\n",
      "9989             rose  medium    strong      50.14\n",
      "9996  shoeblack plant  medium      mild     145.23\n",
      "9999             rose  medium      mild      88.11\n",
      "\n",
      "[3337 rows x 4 columns]\n",
      "\n",
      "     species    size fragrance  height_cm\n",
      "2993    rose  medium      mild      30.85\n",
      "3784    rose  medium      mild      30.70\n",
      "4716    rose  medium      mild      30.53\n",
      "5875    rose  medium      mild      30.54\n",
      "6925    rose  medium      mild      30.23\n",
      "7070    rose  medium      mild      30.85\n",
      "7130    rose  medium      mild      30.27\n",
      "8221    rose  medium      mild      30.94\n",
      "8448    rose  medium      mild      30.36\n",
      "9587    rose  medium      mild      30.89\n",
      "9625    rose  medium      mild      30.55\n",
      "9831    rose  medium      mild      30.55\n"
     ]
    }
   ],
   "source": [
    "filter1 = flowerset[flowerset['size'] == 'medium']\n",
    "print(filter1)\n",
    "print()\n",
    "filter2 = flowerset.query('size == \"medium\" and fragrance == \"mild\" and height_cm < 31')\n",
    "print(filter2)"
   ]
  },
  {
   "cell_type": "markdown",
   "metadata": {},
   "source": [
    "### resizing: adding/dropping columns\n",
    "* declaring a list as a new column \n",
    "* frame.insert(loc, column, value), where loc is insertion index, column is the column label, value is the column values\n",
    "* frame.assign(**kwargs): returns a NEW dataframe with updated/added columns. good for if the new column will be the same for chunks of the preexisting frame, for modifying singular values, or for changing large chunks of values to same value. also wors with lambda functions\n",
    "* pd.concat(objs, axis, join,...), where objs are the data frame(s) to be combined, axis is the axis to concatenate along (0 for rows, 1 for columns)\n",
    "* frame.drop(labels, axis=1) drops the specified column(s)"
   ]
  },
  {
   "cell_type": "code",
   "execution_count": 57,
   "metadata": {},
   "outputs": [
    {
     "name": "stdout",
     "output_type": "stream",
     "text": [
      "     species    size fragrance  height_cm   color\n",
      "2993    rose  medium      mild      30.85    pink\n",
      "3784    rose  medium      mild      30.70  yellow\n",
      "4716    rose  medium      mild      30.53     red\n",
      "5875    rose  medium      mild      30.54  yellow\n",
      "6925    rose  medium      mild      30.23    pink\n",
      "7070    rose  medium      mild      30.85   white\n",
      "7130    rose  medium      mild      30.27   white\n",
      "8221    rose  medium      mild      30.94  yellow\n",
      "8448    rose  medium      mild      30.36    pink\n",
      "9587    rose  medium      mild      30.89   white\n",
      "9625    rose  medium      mild      30.55   white\n",
      "9831    rose  medium      mild      30.55   white\n"
     ]
    }
   ],
   "source": [
    "# adding a new column: with a list\n",
    "colorlist = []\n",
    "colors = ['red','yellow','pink','white']\n",
    "for i in range(len(flowerset)):\n",
    "    if flowerset.loc[i, 'species'] == 'rose':\n",
    "        colorlist.append(np.random.choice(colors))\n",
    "    else:\n",
    "        colorlist.append(\"-\")\n",
    "flowerset['color'] = colorlist\n",
    "\n",
    "filter2 = flowerset.query('size == \"medium\" and fragrance == \"mild\" and height_cm < 31')\n",
    "print(filter2)\n"
   ]
  },
  {
   "cell_type": "markdown",
   "metadata": {},
   "source": [
    "### slicing \n",
    "* rows by index range: frame[1:4]\n",
    "* rows and colums: frame.loc[] allows slicing by labels, frame.iloc[] allows slicing by integer indicies"
   ]
  },
  {
   "cell_type": "code",
   "execution_count": 52,
   "metadata": {},
   "outputs": [
    {
     "name": "stdout",
     "output_type": "stream",
     "text": [
      "             species   color\n",
      "1    shoeblack plant    pink\n",
      "2    shoeblack plant   white\n",
      "3           hibiscus     red\n",
      "4    shoeblack plant  purple\n",
      "5           hibiscus  orange\n",
      "..               ...     ...\n",
      "96              rose    pink\n",
      "97              rose    blue\n",
      "98   shoeblack plant  purple\n",
      "99          hibiscus    pink\n",
      "100             rose   white\n",
      "\n",
      "[100 rows x 2 columns]\n",
      "            species    size\n",
      "4   shoeblack plant   large\n",
      "5          hibiscus   large\n",
      "6              rose   small\n",
      "7              rose   small\n",
      "8          hibiscus   large\n",
      "9   shoeblack plant   large\n",
      "10             rose   small\n",
      "11             rose   small\n",
      "12         hibiscus   large\n",
      "13         hibiscus   large\n",
      "14             rose   small\n",
      "15  shoeblack plant  medium\n"
     ]
    }
   ],
   "source": [
    "sliced1 = flowerset.loc[1:100, ['species','color']]\n",
    "print(sliced1)\n",
    "\n",
    "sliced2 = flowerset.iloc[4:16, 0:2]\n",
    "print(sliced2)"
   ]
  }
 ],
 "metadata": {
  "kernelspec": {
   "display_name": "base",
   "language": "python",
   "name": "python3"
  },
  "language_info": {
   "codemirror_mode": {
    "name": "ipython",
    "version": 3
   },
   "file_extension": ".py",
   "mimetype": "text/x-python",
   "name": "python",
   "nbconvert_exporter": "python",
   "pygments_lexer": "ipython3",
   "version": "3.11.7"
  }
 },
 "nbformat": 4,
 "nbformat_minor": 2
}
